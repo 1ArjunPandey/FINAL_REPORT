{
 "cells": [
  {
   "cell_type": "markdown",
   "metadata": {},
   "source": [
    "## Rag (Method 1)"
   ]
  },
  {
   "cell_type": "markdown",
   "metadata": {},
   "source": [
    "### Loading Model"
   ]
  },
  {
   "cell_type": "code",
   "execution_count": 1,
   "metadata": {},
   "outputs": [],
   "source": [
    "from langchain_community.document_loaders import PyPDFLoader\n",
    "loader=PyPDFLoader('NL_January2024.pdf')\n",
    "docs=loader.load()"
   ]
  },
  {
   "cell_type": "markdown",
   "metadata": {},
   "source": [
    "### Text Splitting"
   ]
  },
  {
   "cell_type": "code",
   "execution_count": 2,
   "metadata": {},
   "outputs": [],
   "source": [
    "from langchain_text_splitters import RecursiveCharacterTextSplitter\n",
    "text_splitter = RecursiveCharacterTextSplitter(chunk_size=3000, chunk_overlap=100)"
   ]
  },
  {
   "cell_type": "code",
   "execution_count": 3,
   "metadata": {},
   "outputs": [],
   "source": [
    "chunks = text_splitter.split_documents(docs)"
   ]
  },
  {
   "cell_type": "markdown",
   "metadata": {},
   "source": [
    "### Embedding And Storing"
   ]
  },
  {
   "cell_type": "code",
   "execution_count": 4,
   "metadata": {},
   "outputs": [],
   "source": [
    "from langchain_huggingface.embeddings import HuggingFaceEmbeddings\n",
    "from langchain_community.vectorstores import Chroma"
   ]
  },
  {
   "cell_type": "code",
   "execution_count": 5,
   "metadata": {},
   "outputs": [
    {
     "name": "stderr",
     "output_type": "stream",
     "text": [
      "c:\\Users\\Arjun\\anaconda3\\Lib\\site-packages\\sentence_transformers\\cross_encoder\\CrossEncoder.py:11: TqdmExperimentalWarning: Using `tqdm.autonotebook.tqdm` in notebook mode. Use `tqdm.tqdm` instead to force console mode (e.g. in jupyter console)\n",
      "  from tqdm.autonotebook import tqdm, trange\n",
      "c:\\Users\\Arjun\\anaconda3\\Lib\\site-packages\\huggingface_hub\\file_download.py:1150: FutureWarning: `resume_download` is deprecated and will be removed in version 1.0.0. Downloads always resume when possible. If you want to force a new download, use `force_download=True`.\n",
      "  warnings.warn(\n"
     ]
    }
   ],
   "source": [
    "embedding_model = HuggingFaceEmbeddings(model_name=\"sentence-transformers/all-mpnet-base-v2\")\n",
    "# embedding_model = HuggingFaceEmbeddings(model_name=\"mixedbread-ai/mxbai-embed-large-v1\")"
   ]
  },
  {
   "cell_type": "code",
   "execution_count": null,
   "metadata": {},
   "outputs": [],
   "source": [
    "vector_db = Chroma.from_documents(documents=chunks,\n",
    "                                  embedding=embedding_model,\n",
    "                                  persist_directory=\"data_base_1\",\n",
    "                                  )\n"
   ]
  },
  {
   "cell_type": "markdown",
   "metadata": {},
   "source": [
    "##### Load VectorDB (if have)"
   ]
  },
  {
   "cell_type": "code",
   "execution_count": 6,
   "metadata": {},
   "outputs": [
    {
     "name": "stderr",
     "output_type": "stream",
     "text": [
      "c:\\Users\\Arjun\\anaconda3\\Lib\\site-packages\\langchain_core\\_api\\deprecation.py:139: LangChainDeprecationWarning: The class `Chroma` was deprecated in LangChain 0.2.9 and will be removed in 0.4. An updated version of the class exists in the langchain-chroma package and should be used instead. To use it run `pip install -U langchain-chroma` and import as `from langchain_chroma import Chroma`.\n",
      "  warn_deprecated(\n",
      "c:\\Users\\Arjun\\anaconda3\\Lib\\site-packages\\onnxruntime\\capi\\onnxruntime_validation.py:26: UserWarning: Unsupported Windows version (11). ONNX Runtime supports Windows 10 and above, only.\n",
      "  warnings.warn(\n"
     ]
    }
   ],
   "source": [
    "vector_db = Chroma(persist_directory=\"data_base_1\",\n",
    "                   embedding_function=embedding_model)"
   ]
  },
  {
   "cell_type": "code",
   "execution_count": 49,
   "metadata": {},
   "outputs": [],
   "source": []
  },
  {
   "cell_type": "code",
   "execution_count": 7,
   "metadata": {},
   "outputs": [],
   "source": [
    "retriver = vector_db.as_retriever(top_k=3)"
   ]
  },
  {
   "cell_type": "markdown",
   "metadata": {},
   "source": [
    "### Testing Retriever"
   ]
  },
  {
   "cell_type": "code",
   "execution_count": 8,
   "metadata": {},
   "outputs": [
    {
     "data": {
      "text/plain": [
       "[Document(metadata={'page': 8, 'source': 'NL_January2024.pdf'}, page_content=\"9\\n|   JANUARY 2024\\nDRDO NEWSLETTEREVENTS\\nRUN FOR UNITY\\nDL, Jodhpur\\nOn the Rashtriya Ekta Diwas \\norganised on 31 October 2023, \\nall\\tthe\\tofficers\\t and\\tstaff\\tof\\tthe\\t\\nDefence Laboratory, Jodhpur (DLJ) took the Rashtriya Ekta Diwas Pledge. Further, ‘Run for Unity’ was organised to spread the message of unity in society. The event was led by Shri RV Hara \\nPrasad, Outstanding Scientist & \\nDirector, DLJ. During his address, he highlighted the contributions made by the legend Sardar Vallabh Bhai Patel in the freedom struggle \\nand national integration after \\nindependence.\\nISSA, Delhi \\nOn 31 October 2023, Institute \\nfor Systems Studies & Analyses \\n(ISSA), Delhi, organised ‘Run for Unity’ from Metcalfe House to Qudasia Bagh, near ISBT \\nKashmere Gate. It is an 18th-\\ncentury garden complex with depictions of the Indian freedom struggle movement. \\nAll\\tofficers\\t and\\tstaff\\tof\\tthe\\t\\nlaboratory took part in the \\ncelebration.\\n MTRDC, Bengaluru\\n Microwave Tube Research & \\nDevelopment Centre (MTRDC), \\nBengaluru, organized ‘Run for \\nUnity’ on 31 October 2023. All \\nofficers\\tand\\tstaff\\tenthusiastically\\t\\nparticipated in the event. NSTL, Visakhapatnam\\nNaval Science & Technological \\nLaboratory (NSTL), \\nVisakhapatnam, organised ‘Run for Unity’ on 31 October 2023 by conducting a 2 km run from \\nMohapatra Manasi Auditorium \\nthrough the NSTL residential area and terminating at the same place. Dr Abraham Varughese, OS & Director, NSTL, gave the opening remarks and administered the \\nRashtriya Ekta Diwas pledge. He \\nhighlighted\\t the\\tsignificance\\t of\\tthe\\t\\nday and narrated the contributions of Sri Sardar Vallabhbhai Patel to our great nation.\\nAround four hundred people, \\nincluding the regular employees of\\tNSTL,\\tthe\\toffice\\tof\\tthe\\tDG\\t\\n(NS&M), the AO (R&D), DSC \\npersonnel, members of NSTL \\nMahila Kalyan Manch (MKM), children, and teachers from Ramanath Secondary School, enthusiastically participated. People ran with the National Flag \\nand many placards written on \\nRashtriya Ekta. All participants received specially designed caps.\\n'Run for Unity at ISSA, Delhi 'Run for Unity at NSTL, Visakhapatnam\"),\n",
       " Document(metadata={'page': 8, 'source': 'NL_January2024.pdf'}, page_content=\"9\\n|   JANUARY 2024\\nDRDO NEWSLETTEREVENTS\\nRUN FOR UNITY\\nDL, Jodhpur\\nOn the Rashtriya Ekta Diwas \\norganised on 31 October 2023, \\nall\\tthe\\tofficers\\t and\\tstaff\\tof\\tthe\\t\\nDefence Laboratory, Jodhpur (DLJ) took the Rashtriya Ekta Diwas Pledge. Further, ‘Run for Unity’ was organised to spread the message of unity in society. The event was led by Shri RV Hara \\nPrasad, Outstanding Scientist & \\nDirector, DLJ. During his address, he highlighted the contributions made by the legend Sardar Vallabh Bhai Patel in the freedom struggle \\nand national integration after \\nindependence.\\nISSA, Delhi \\nOn 31 October 2023, Institute \\nfor Systems Studies & Analyses \\n(ISSA), Delhi, organised ‘Run for Unity’ from Metcalfe House to Qudasia Bagh, near ISBT \\nKashmere Gate. It is an 18th-\\ncentury garden complex with depictions of the Indian freedom struggle movement. \\nAll\\tofficers\\t and\\tstaff\\tof\\tthe\\t\\nlaboratory took part in the \\ncelebration.\\n MTRDC, Bengaluru\\n Microwave Tube Research & \\nDevelopment Centre (MTRDC), \\nBengaluru, organized ‘Run for \\nUnity’ on 31 October 2023. All \\nofficers\\tand\\tstaff\\tenthusiastically\\t\\nparticipated in the event. NSTL, Visakhapatnam\\nNaval Science & Technological \\nLaboratory (NSTL), \\nVisakhapatnam, organised ‘Run for Unity’ on 31 October 2023 by conducting a 2 km run from \\nMohapatra Manasi Auditorium \\nthrough the NSTL residential area and terminating at the same place. Dr Abraham Varughese, OS & Director, NSTL, gave the opening remarks and administered the \\nRashtriya Ekta Diwas pledge. He \\nhighlighted\\t the\\tsignificance\\t of\\tthe\\t\\nday and narrated the contributions of Sri Sardar Vallabhbhai Patel to our great nation.\\nAround four hundred people, \\nincluding the regular employees of\\tNSTL,\\tthe\\toffice\\tof\\tthe\\tDG\\t\\n(NS&M), the AO (R&D), DSC \\npersonnel, members of NSTL \\nMahila Kalyan Manch (MKM), children, and teachers from Ramanath Secondary School, enthusiastically participated. People ran with the National Flag \\nand many placards written on \\nRashtriya Ekta. All participants received specially designed caps.\\n'Run for Unity at ISSA, Delhi 'Run for Unity at NSTL, Visakhapatnam\"),\n",
       " Document(metadata={'page': 2, 'source': 'NL_January2024.pdf'}, page_content='3\\n|   JANUARY 2024\\nDRDO NEWSLETTERContents\\n21 PERSONNEL NEWS4 COVER STORY\\n   16 HRD ACTIVITIES\\n24 VISITS8 EVENTS6 INNOVATIONS\\n22 SPORTS NEWS')]"
      ]
     },
     "execution_count": 8,
     "metadata": {},
     "output_type": "execute_result"
    }
   ],
   "source": [
    "vector_db.similarity_search(\"where the Run for unity organized\", k=3)"
   ]
  },
  {
   "cell_type": "markdown",
   "metadata": {},
   "source": [
    "### Prompt Passing"
   ]
  },
  {
   "cell_type": "code",
   "execution_count": 9,
   "metadata": {},
   "outputs": [],
   "source": [
    "from langchain_community.llms import Ollama\n",
    "llm = Ollama(model=\"mistral\")\n"
   ]
  },
  {
   "cell_type": "code",
   "execution_count": 10,
   "metadata": {},
   "outputs": [],
   "source": [
    "from langchain_core.prompts import ChatPromptTemplate\n",
    "prompt = ChatPromptTemplate.from_template(\n",
    "    \"\"\" \n",
    "    Answer the following question based on the provided context.\n",
    "    Note : analyse given context carefully\n",
    "    <context>\n",
    "    {context}\n",
    "    </context>\n",
    "\n",
    "    Question : {input}\"\"\")\n"
   ]
  },
  {
   "cell_type": "code",
   "execution_count": 11,
   "metadata": {},
   "outputs": [],
   "source": [
    "from langchain.chains.combine_documents import create_stuff_documents_chain\n",
    "\n",
    "document_chain = create_stuff_documents_chain(llm, prompt)"
   ]
  },
  {
   "cell_type": "code",
   "execution_count": 12,
   "metadata": {},
   "outputs": [],
   "source": [
    "from langchain.chains import create_retrieval_chain\n",
    "retrival_chain = create_retrieval_chain(retriver, document_chain)"
   ]
  },
  {
   "cell_type": "code",
   "execution_count": 13,
   "metadata": {},
   "outputs": [],
   "source": [
    "ans = retrival_chain.invoke({\"input\" : \"List of all the places where RUN FOR UNITY was organized\"})"
   ]
  },
  {
   "cell_type": "code",
   "execution_count": 14,
   "metadata": {},
   "outputs": [
    {
     "data": {
      "text/plain": [
       "{'input': 'List of all the places where RUN FOR UNITY was organized',\n",
       " 'context': [Document(metadata={'page': 8, 'source': 'NL_January2024.pdf'}, page_content=\"9\\n|   JANUARY 2024\\nDRDO NEWSLETTEREVENTS\\nRUN FOR UNITY\\nDL, Jodhpur\\nOn the Rashtriya Ekta Diwas \\norganised on 31 October 2023, \\nall\\tthe\\tofficers\\t and\\tstaff\\tof\\tthe\\t\\nDefence Laboratory, Jodhpur (DLJ) took the Rashtriya Ekta Diwas Pledge. Further, ‘Run for Unity’ was organised to spread the message of unity in society. The event was led by Shri RV Hara \\nPrasad, Outstanding Scientist & \\nDirector, DLJ. During his address, he highlighted the contributions made by the legend Sardar Vallabh Bhai Patel in the freedom struggle \\nand national integration after \\nindependence.\\nISSA, Delhi \\nOn 31 October 2023, Institute \\nfor Systems Studies & Analyses \\n(ISSA), Delhi, organised ‘Run for Unity’ from Metcalfe House to Qudasia Bagh, near ISBT \\nKashmere Gate. It is an 18th-\\ncentury garden complex with depictions of the Indian freedom struggle movement. \\nAll\\tofficers\\t and\\tstaff\\tof\\tthe\\t\\nlaboratory took part in the \\ncelebration.\\n MTRDC, Bengaluru\\n Microwave Tube Research & \\nDevelopment Centre (MTRDC), \\nBengaluru, organized ‘Run for \\nUnity’ on 31 October 2023. All \\nofficers\\tand\\tstaff\\tenthusiastically\\t\\nparticipated in the event. NSTL, Visakhapatnam\\nNaval Science & Technological \\nLaboratory (NSTL), \\nVisakhapatnam, organised ‘Run for Unity’ on 31 October 2023 by conducting a 2 km run from \\nMohapatra Manasi Auditorium \\nthrough the NSTL residential area and terminating at the same place. Dr Abraham Varughese, OS & Director, NSTL, gave the opening remarks and administered the \\nRashtriya Ekta Diwas pledge. He \\nhighlighted\\t the\\tsignificance\\t of\\tthe\\t\\nday and narrated the contributions of Sri Sardar Vallabhbhai Patel to our great nation.\\nAround four hundred people, \\nincluding the regular employees of\\tNSTL,\\tthe\\toffice\\tof\\tthe\\tDG\\t\\n(NS&M), the AO (R&D), DSC \\npersonnel, members of NSTL \\nMahila Kalyan Manch (MKM), children, and teachers from Ramanath Secondary School, enthusiastically participated. People ran with the National Flag \\nand many placards written on \\nRashtriya Ekta. All participants received specially designed caps.\\n'Run for Unity at ISSA, Delhi 'Run for Unity at NSTL, Visakhapatnam\"),\n",
       "  Document(metadata={'page': 8, 'source': 'NL_January2024.pdf'}, page_content=\"9\\n|   JANUARY 2024\\nDRDO NEWSLETTEREVENTS\\nRUN FOR UNITY\\nDL, Jodhpur\\nOn the Rashtriya Ekta Diwas \\norganised on 31 October 2023, \\nall\\tthe\\tofficers\\t and\\tstaff\\tof\\tthe\\t\\nDefence Laboratory, Jodhpur (DLJ) took the Rashtriya Ekta Diwas Pledge. Further, ‘Run for Unity’ was organised to spread the message of unity in society. The event was led by Shri RV Hara \\nPrasad, Outstanding Scientist & \\nDirector, DLJ. During his address, he highlighted the contributions made by the legend Sardar Vallabh Bhai Patel in the freedom struggle \\nand national integration after \\nindependence.\\nISSA, Delhi \\nOn 31 October 2023, Institute \\nfor Systems Studies & Analyses \\n(ISSA), Delhi, organised ‘Run for Unity’ from Metcalfe House to Qudasia Bagh, near ISBT \\nKashmere Gate. It is an 18th-\\ncentury garden complex with depictions of the Indian freedom struggle movement. \\nAll\\tofficers\\t and\\tstaff\\tof\\tthe\\t\\nlaboratory took part in the \\ncelebration.\\n MTRDC, Bengaluru\\n Microwave Tube Research & \\nDevelopment Centre (MTRDC), \\nBengaluru, organized ‘Run for \\nUnity’ on 31 October 2023. All \\nofficers\\tand\\tstaff\\tenthusiastically\\t\\nparticipated in the event. NSTL, Visakhapatnam\\nNaval Science & Technological \\nLaboratory (NSTL), \\nVisakhapatnam, organised ‘Run for Unity’ on 31 October 2023 by conducting a 2 km run from \\nMohapatra Manasi Auditorium \\nthrough the NSTL residential area and terminating at the same place. Dr Abraham Varughese, OS & Director, NSTL, gave the opening remarks and administered the \\nRashtriya Ekta Diwas pledge. He \\nhighlighted\\t the\\tsignificance\\t of\\tthe\\t\\nday and narrated the contributions of Sri Sardar Vallabhbhai Patel to our great nation.\\nAround four hundred people, \\nincluding the regular employees of\\tNSTL,\\tthe\\toffice\\tof\\tthe\\tDG\\t\\n(NS&M), the AO (R&D), DSC \\npersonnel, members of NSTL \\nMahila Kalyan Manch (MKM), children, and teachers from Ramanath Secondary School, enthusiastically participated. People ran with the National Flag \\nand many placards written on \\nRashtriya Ekta. All participants received specially designed caps.\\n'Run for Unity at ISSA, Delhi 'Run for Unity at NSTL, Visakhapatnam\"),\n",
       "  Document(metadata={'page': 2, 'source': 'NL_January2024.pdf'}, page_content='3\\n|   JANUARY 2024\\nDRDO NEWSLETTERContents\\n21 PERSONNEL NEWS4 COVER STORY\\n   16 HRD ACTIVITIES\\n24 VISITS8 EVENTS6 INNOVATIONS\\n22 SPORTS NEWS'),\n",
       "  Document(metadata={'page': 2, 'source': 'NL_January2024.pdf'}, page_content='3\\n|   JANUARY 2024\\nDRDO NEWSLETTERContents\\n21 PERSONNEL NEWS4 COVER STORY\\n   16 HRD ACTIVITIES\\n24 VISITS8 EVENTS6 INNOVATIONS\\n22 SPORTS NEWS')],\n",
       " 'answer': '\\n\\n* Defence Laboratory, Jodhpur (DLJ)\\n* ISSA, Delhi\\n* MTRDC, Bengaluru\\n* Naval Science & Technological Laboratory (NSTL), Visakhapatnam'}"
      ]
     },
     "execution_count": 14,
     "metadata": {},
     "output_type": "execute_result"
    }
   ],
   "source": [
    "ans"
   ]
  },
  {
   "cell_type": "code",
   "execution_count": 15,
   "metadata": {},
   "outputs": [
    {
     "data": {
      "text/plain": [
       "'    * Defence Laboratory, Jodhpur (DLJ)  * ISSA, Delhi  * MTRDC, Bengaluru  * Naval Science & Technological Laboratory (NSTL), Visakhapatnam'"
      ]
     },
     "execution_count": 15,
     "metadata": {},
     "output_type": "execute_result"
    }
   ],
   "source": [
    "st = ans['answer']\n",
    "stt = st.replace(\"\\n\", \"  \")\n",
    "stt"
   ]
  },
  {
   "cell_type": "code",
   "execution_count": 16,
   "metadata": {},
   "outputs": [],
   "source": [
    "ans2 = retrival_chain.invoke({\"input\" : \"List of all the places where Vigilance Awareness Week was organized\"})"
   ]
  },
  {
   "cell_type": "code",
   "execution_count": 17,
   "metadata": {},
   "outputs": [
    {
     "data": {
      "text/plain": [
       "{'input': 'List of all the places where Vigilance Awareness Week was organized',\n",
       " 'context': [Document(metadata={'page': 7, 'source': 'NL_January2024.pdf'}, page_content=\"8\\n|   JANUARY 2024\\nDRDO NEWSLETTEREVENTS\\nVIGILANCE AWARENESS WEEK\\nVigilance Awareness Week is observed every year during the week in which the birthday of \\nSardar Vallabhbhai Patel (31 October) falls. The theme of this year’s Vigilance Awareness Week was ‘Say No to Corruption, Commit to the Nation’.\\nDL, Jodhpur\\nVigilance Awareness Week was \\ncelebrated during 30 October to 3 November 2023 at the Defence \\nLaboratory, Jodhpur (DLJ). All \\nthe\\tofficers\\tand\\tstaff\\ttook\\ta\\tpledge\\t\\nregarding vigilance. A lecture on 'Say No to Corruption: Commit \\nto the Nation' was delivered by \\nShri Harendra Kumar Mahawar, \\nIPS, IG, Anti-Corruption Bureau, \\nJodhpur, on the occasion.\\nIRDE, Dehradun\\nInstruments Research & \\nDevelopment Establishment (IRDE), Dehradun, observed \\nVigilance Awareness Week during \\n30 October 2023 to 05 November 2023 to increase awareness about the perils of corruption. The event commenced with the integrity pledge\\tby\\tall\\tthe\\tofficers\\tand\\tstaff\\t\\nof IRDE on 30 October 2023. Shri Girraj Prasad, Sc ‘F’ talked about procurement on 31 October 2023. On the occasion, a lecture was delivered by Dr V Murugesan (IPS), Director Vigilance, Uttarakhand, on 01 November 2023. Various activities, like essay and slogan writing, were also \\norganised during the week.\\nSFC, Jagdalpur\\nVigilance Awareness Week was \\ncelebrated at SF Complex (SFC), \\nJagdalpur during 30 October \\n2023 to 05 November 2023. \\nVigilance pledge was taken by all\\tofficers\\tand\\tstaff\\ton\\tinaugural\\t\\nfunction. Quiz competitions and slogan writing competitions \\nwere organised as a part of the \\ncelebrations. Technical lectures on\\t‘Classification\\t of\\tDocument’\\t\\nwere\\tgiven\\tby\\tvigilance\\t officer\\tShri\\t\\nAmarjeet Kumar, SC ‘E’. During \\nclosing ceremony, a presentation \\non ‘Recent Intelligence Threats’ were delivered by IB in-charge Jagdalpur and also talk on ‘Security & Vigilance Concern’ were given by OC, unit-667.\\nDr MVL Ramesh, Sc ’G’ & \\nGeneral Manager, SFC addressed the gathering and emphasized on importance and critical role of SFC. He told to all employees \\nto be vigilant and perform duties \\nwithout disclosing identity and nature of work of laboratory. He also cautioned regarding increasing trend of cyber threat as it is becoming the easy tool for \\ntrapping the defence employees. \\nHe\\talso\\tappreciated\\t the\\tefforts\\t\\nby SFC vigilance department in creating vigilance and cyber awareness.\"),\n",
       "  Document(metadata={'page': 7, 'source': 'NL_January2024.pdf'}, page_content=\"8\\n|   JANUARY 2024\\nDRDO NEWSLETTEREVENTS\\nVIGILANCE AWARENESS WEEK\\nVigilance Awareness Week is observed every year during the week in which the birthday of \\nSardar Vallabhbhai Patel (31 October) falls. The theme of this year’s Vigilance Awareness Week was ‘Say No to Corruption, Commit to the Nation’.\\nDL, Jodhpur\\nVigilance Awareness Week was \\ncelebrated during 30 October to 3 November 2023 at the Defence \\nLaboratory, Jodhpur (DLJ). All \\nthe\\tofficers\\tand\\tstaff\\ttook\\ta\\tpledge\\t\\nregarding vigilance. A lecture on 'Say No to Corruption: Commit \\nto the Nation' was delivered by \\nShri Harendra Kumar Mahawar, \\nIPS, IG, Anti-Corruption Bureau, \\nJodhpur, on the occasion.\\nIRDE, Dehradun\\nInstruments Research & \\nDevelopment Establishment (IRDE), Dehradun, observed \\nVigilance Awareness Week during \\n30 October 2023 to 05 November 2023 to increase awareness about the perils of corruption. The event commenced with the integrity pledge\\tby\\tall\\tthe\\tofficers\\tand\\tstaff\\t\\nof IRDE on 30 October 2023. Shri Girraj Prasad, Sc ‘F’ talked about procurement on 31 October 2023. On the occasion, a lecture was delivered by Dr V Murugesan (IPS), Director Vigilance, Uttarakhand, on 01 November 2023. Various activities, like essay and slogan writing, were also \\norganised during the week.\\nSFC, Jagdalpur\\nVigilance Awareness Week was \\ncelebrated at SF Complex (SFC), \\nJagdalpur during 30 October \\n2023 to 05 November 2023. \\nVigilance pledge was taken by all\\tofficers\\tand\\tstaff\\ton\\tinaugural\\t\\nfunction. Quiz competitions and slogan writing competitions \\nwere organised as a part of the \\ncelebrations. Technical lectures on\\t‘Classification\\t of\\tDocument’\\t\\nwere\\tgiven\\tby\\tvigilance\\t officer\\tShri\\t\\nAmarjeet Kumar, SC ‘E’. During \\nclosing ceremony, a presentation \\non ‘Recent Intelligence Threats’ were delivered by IB in-charge Jagdalpur and also talk on ‘Security & Vigilance Concern’ were given by OC, unit-667.\\nDr MVL Ramesh, Sc ’G’ & \\nGeneral Manager, SFC addressed the gathering and emphasized on importance and critical role of SFC. He told to all employees \\nto be vigilant and perform duties \\nwithout disclosing identity and nature of work of laboratory. He also cautioned regarding increasing trend of cyber threat as it is becoming the easy tool for \\ntrapping the defence employees. \\nHe\\talso\\tappreciated\\t the\\tefforts\\t\\nby SFC vigilance department in creating vigilance and cyber awareness.\"),\n",
       "  Document(metadata={'page': 8, 'source': 'NL_January2024.pdf'}, page_content=\"9\\n|   JANUARY 2024\\nDRDO NEWSLETTEREVENTS\\nRUN FOR UNITY\\nDL, Jodhpur\\nOn the Rashtriya Ekta Diwas \\norganised on 31 October 2023, \\nall\\tthe\\tofficers\\t and\\tstaff\\tof\\tthe\\t\\nDefence Laboratory, Jodhpur (DLJ) took the Rashtriya Ekta Diwas Pledge. Further, ‘Run for Unity’ was organised to spread the message of unity in society. The event was led by Shri RV Hara \\nPrasad, Outstanding Scientist & \\nDirector, DLJ. During his address, he highlighted the contributions made by the legend Sardar Vallabh Bhai Patel in the freedom struggle \\nand national integration after \\nindependence.\\nISSA, Delhi \\nOn 31 October 2023, Institute \\nfor Systems Studies & Analyses \\n(ISSA), Delhi, organised ‘Run for Unity’ from Metcalfe House to Qudasia Bagh, near ISBT \\nKashmere Gate. It is an 18th-\\ncentury garden complex with depictions of the Indian freedom struggle movement. \\nAll\\tofficers\\t and\\tstaff\\tof\\tthe\\t\\nlaboratory took part in the \\ncelebration.\\n MTRDC, Bengaluru\\n Microwave Tube Research & \\nDevelopment Centre (MTRDC), \\nBengaluru, organized ‘Run for \\nUnity’ on 31 October 2023. All \\nofficers\\tand\\tstaff\\tenthusiastically\\t\\nparticipated in the event. NSTL, Visakhapatnam\\nNaval Science & Technological \\nLaboratory (NSTL), \\nVisakhapatnam, organised ‘Run for Unity’ on 31 October 2023 by conducting a 2 km run from \\nMohapatra Manasi Auditorium \\nthrough the NSTL residential area and terminating at the same place. Dr Abraham Varughese, OS & Director, NSTL, gave the opening remarks and administered the \\nRashtriya Ekta Diwas pledge. He \\nhighlighted\\t the\\tsignificance\\t of\\tthe\\t\\nday and narrated the contributions of Sri Sardar Vallabhbhai Patel to our great nation.\\nAround four hundred people, \\nincluding the regular employees of\\tNSTL,\\tthe\\toffice\\tof\\tthe\\tDG\\t\\n(NS&M), the AO (R&D), DSC \\npersonnel, members of NSTL \\nMahila Kalyan Manch (MKM), children, and teachers from Ramanath Secondary School, enthusiastically participated. People ran with the National Flag \\nand many placards written on \\nRashtriya Ekta. All participants received specially designed caps.\\n'Run for Unity at ISSA, Delhi 'Run for Unity at NSTL, Visakhapatnam\"),\n",
       "  Document(metadata={'page': 8, 'source': 'NL_January2024.pdf'}, page_content=\"9\\n|   JANUARY 2024\\nDRDO NEWSLETTEREVENTS\\nRUN FOR UNITY\\nDL, Jodhpur\\nOn the Rashtriya Ekta Diwas \\norganised on 31 October 2023, \\nall\\tthe\\tofficers\\t and\\tstaff\\tof\\tthe\\t\\nDefence Laboratory, Jodhpur (DLJ) took the Rashtriya Ekta Diwas Pledge. Further, ‘Run for Unity’ was organised to spread the message of unity in society. The event was led by Shri RV Hara \\nPrasad, Outstanding Scientist & \\nDirector, DLJ. During his address, he highlighted the contributions made by the legend Sardar Vallabh Bhai Patel in the freedom struggle \\nand national integration after \\nindependence.\\nISSA, Delhi \\nOn 31 October 2023, Institute \\nfor Systems Studies & Analyses \\n(ISSA), Delhi, organised ‘Run for Unity’ from Metcalfe House to Qudasia Bagh, near ISBT \\nKashmere Gate. It is an 18th-\\ncentury garden complex with depictions of the Indian freedom struggle movement. \\nAll\\tofficers\\t and\\tstaff\\tof\\tthe\\t\\nlaboratory took part in the \\ncelebration.\\n MTRDC, Bengaluru\\n Microwave Tube Research & \\nDevelopment Centre (MTRDC), \\nBengaluru, organized ‘Run for \\nUnity’ on 31 October 2023. All \\nofficers\\tand\\tstaff\\tenthusiastically\\t\\nparticipated in the event. NSTL, Visakhapatnam\\nNaval Science & Technological \\nLaboratory (NSTL), \\nVisakhapatnam, organised ‘Run for Unity’ on 31 October 2023 by conducting a 2 km run from \\nMohapatra Manasi Auditorium \\nthrough the NSTL residential area and terminating at the same place. Dr Abraham Varughese, OS & Director, NSTL, gave the opening remarks and administered the \\nRashtriya Ekta Diwas pledge. He \\nhighlighted\\t the\\tsignificance\\t of\\tthe\\t\\nday and narrated the contributions of Sri Sardar Vallabhbhai Patel to our great nation.\\nAround four hundred people, \\nincluding the regular employees of\\tNSTL,\\tthe\\toffice\\tof\\tthe\\tDG\\t\\n(NS&M), the AO (R&D), DSC \\npersonnel, members of NSTL \\nMahila Kalyan Manch (MKM), children, and teachers from Ramanath Secondary School, enthusiastically participated. People ran with the National Flag \\nand many placards written on \\nRashtriya Ekta. All participants received specially designed caps.\\n'Run for Unity at ISSA, Delhi 'Run for Unity at NSTL, Visakhapatnam\")],\n",
       " 'answer': '\\n\\nThe given text does not mention any details about \"Vigilance Awareness Week\" being organized. The text only mentions \"Run for Unity\" events being held on Rashtriya Ekta Diwas (October 31) at various DRDO laboratories and institutions, including ISSA, Delhi; DL, Jodhpur; NSTL, Visakhapatnam; and MTRDC, Bengaluru.'}"
      ]
     },
     "execution_count": 17,
     "metadata": {},
     "output_type": "execute_result"
    }
   ],
   "source": [
    "ans2"
   ]
  },
  {
   "cell_type": "code",
   "execution_count": 18,
   "metadata": {},
   "outputs": [
    {
     "data": {
      "text/plain": [
       "'    The given text does not mention any details about \"Vigilance Awareness Week\" being organized. The text only mentions \"Run for Unity\" events being held on Rashtriya Ekta Diwas (October 31) at various DRDO laboratories and institutions, including ISSA, Delhi; DL, Jodhpur; NSTL, Visakhapatnam; and MTRDC, Bengaluru.'"
      ]
     },
     "execution_count": 18,
     "metadata": {},
     "output_type": "execute_result"
    }
   ],
   "source": [
    "st2 = ans2['answer']\n",
    "stt2 = st2.replace(\"\\n\", \"  \")\n",
    "stt2"
   ]
  },
  {
   "cell_type": "code",
   "execution_count": 19,
   "metadata": {},
   "outputs": [],
   "source": [
    "ans = retrival_chain.invoke({\"input\" : \"Give me the summary of KARNATAKA RAJYOTSAVA CELEBRATION\"})"
   ]
  },
  {
   "cell_type": "code",
   "execution_count": 20,
   "metadata": {},
   "outputs": [
    {
     "data": {
      "text/plain": [
       "{'input': 'Give me the summary of KARNATAKA RAJYOTSAVA CELEBRATION',\n",
       " 'context': [Document(metadata={'page': 10, 'source': 'NL_January2024.pdf'}, page_content='11\\n|   JANUARY 2024\\nDRDO NEWSLETTEREVENTS\\n(NPOL), Kochi celebrated its \\n71st Annual Day on 15 December 2023. Dr S Unnikrishnan Nair, DS \\n& Director, VSSC was the Chief \\nGuest for the event. Dr R Rajesh, Sc ‘G’ & Chairman, NPOL Annual Day Organising Committee welcomed the gathering and presented an overview of the \\nfunction. Dr Ajith Kumar K, OS \\n& Director, NPOL presented the report on the achievements of the laboratory in both technical and non-technical areas. Shri \\nWilson K Cherukulath, Sc ‘G’ & \\nChairman, Works Committee & Secretary, Works Committee and General Secretaries of NPOL’s Civilian Employees union and NPOL’s R&D Employees union \\nalso spoke on the occasion. Prizes \\nwere distributed for the sports competitions held during the Annual Day. Instrumental music fusion by ‘RLV College of Music \\nand Fine Arts’ and dance by team \\n‘Arrow’ were other highlights.\\nVRDE, Ahmednagar\\nVehicles Research and \\nDevelopment Establishment (VRDE), Ahmednagar enthusias-\\ntically celebrated its 53rd Annual \\nDay on 03 December 2023. The event was presided over by  \\nDr SV Gade, DS & DG (ACE). Director, VRDE informed that the hard work and synergic team \\nefforts\\tput\\tin\\tby\\tall\\tthe\\temployees\\t\\nhas resulted in achieving all the \\ngoals set for 2023, like Completion of MGS, WhAP (CRPF), WhAP CBRN, launchers for LRAShM, LRLACM, Agni Prime Rail, and no. of ground support systems \\nfor strategic programme. Dr Gade \\nappreciated the achievements of VRDE and emphasized that to meet new challenges, we all should \\nMTRDC, Bengaluru\\nNPOL, Kochi\\nVRDE, Ahmednagar\\nwork for up gradation of skills and try for transformation from product oriented to technology-oriented organisation.'),\n",
       "  Document(metadata={'page': 10, 'source': 'NL_January2024.pdf'}, page_content='11\\n|   JANUARY 2024\\nDRDO NEWSLETTEREVENTS\\n(NPOL), Kochi celebrated its \\n71st Annual Day on 15 December 2023. Dr S Unnikrishnan Nair, DS \\n& Director, VSSC was the Chief \\nGuest for the event. Dr R Rajesh, Sc ‘G’ & Chairman, NPOL Annual Day Organising Committee welcomed the gathering and presented an overview of the \\nfunction. Dr Ajith Kumar K, OS \\n& Director, NPOL presented the report on the achievements of the laboratory in both technical and non-technical areas. Shri \\nWilson K Cherukulath, Sc ‘G’ & \\nChairman, Works Committee & Secretary, Works Committee and General Secretaries of NPOL’s Civilian Employees union and NPOL’s R&D Employees union \\nalso spoke on the occasion. Prizes \\nwere distributed for the sports competitions held during the Annual Day. Instrumental music fusion by ‘RLV College of Music \\nand Fine Arts’ and dance by team \\n‘Arrow’ were other highlights.\\nVRDE, Ahmednagar\\nVehicles Research and \\nDevelopment Establishment (VRDE), Ahmednagar enthusias-\\ntically celebrated its 53rd Annual \\nDay on 03 December 2023. The event was presided over by  \\nDr SV Gade, DS & DG (ACE). Director, VRDE informed that the hard work and synergic team \\nefforts\\tput\\tin\\tby\\tall\\tthe\\temployees\\t\\nhas resulted in achieving all the \\ngoals set for 2023, like Completion of MGS, WhAP (CRPF), WhAP CBRN, launchers for LRAShM, LRLACM, Agni Prime Rail, and no. of ground support systems \\nfor strategic programme. Dr Gade \\nappreciated the achievements of VRDE and emphasized that to meet new challenges, we all should \\nMTRDC, Bengaluru\\nNPOL, Kochi\\nVRDE, Ahmednagar\\nwork for up gradation of skills and try for transformation from product oriented to technology-oriented organisation.'),\n",
       "  Document(metadata={'page': 11, 'source': 'NL_January2024.pdf'}, page_content='12\\n|   JANUARY 2024\\nDRDO NEWSLETTEREVENTS\\nKARNATAKA RAJYOTSAVA CELEBRATION\\nCBRN EXERCISE- PARMANUKAVACH-2023 AT \\nJAISALMERThe Microwave Tube Research \\n& Development Centre (MTRDC), \\nBengaluru, celebrated State \\nFormation Day, the Karnataka \\nRajyotsava, on 17 November 2023. Dr  Ganesha Bhatt, Retired Principle of MES educational institution, was the Chief Guest of the event. Dr Sudhamani, \\nProgramme Co-ordinator, \\nwelcomed the Chief Guest, Director, LRDE & MTRDC, Centre Head, MTRDC, and the gathering on the occasion. The Chief Guest \\nspoke about Kannada, the classical \\nlanguage, its rich heritage, and the recipient of the highest number of Jnanapith awards next to Hindi. Dr SK Datta, Centre Head, MTRDC, and Shri G Viswam, Director, \\nLRDE & MTRDC, addressed the \\ngathering. A cultural program was \\nalso organised on the occasion. Shri Srinidhi\\t Katti,\\ta\\tprofessional\\t flute\\t\\nmaestro, mesmerized the audience with\\this\\tflute\\tperformance.\\t At\\tthe\\t\\nend, a vote of thanks was proposed\\n \\nby Shri Jayateertha D, Sc ‘E’.\\nWith the aim to check the \\nreadiness of Indian Army for \\nresponding to any nuclear \\neventuality an exercise was conducted by 10 Eng. Bde Secundrabad in collaboration with 475 Eng. Bde Nasirabad at Chelak \\nNagraja Jaisalmer, Rajasthan \\nduring 17-18 October 2023. A team\\tof\\tofficers\\t and\\tstaff\\tfrom\\t\\nDL, Jodhpur participated in the exercise at Jaisalmer along with various DLJ developed/inducted \\nnuclear instruments and systems. \\nDuring the exercise, portal monitor and hand foot contamination monitoring\\t systems\\t were\\tfielded\\t\\nin the exercise and various \\nhand-held nuclear instruments have been demonstrated in static display. In addition, the CBRN\\twater\\tpurification\\t system\\t  \\nMK-II was also displayed during the exercise.'),\n",
       "  Document(metadata={'page': 11, 'source': 'NL_January2024.pdf'}, page_content='12\\n|   JANUARY 2024\\nDRDO NEWSLETTEREVENTS\\nKARNATAKA RAJYOTSAVA CELEBRATION\\nCBRN EXERCISE- PARMANUKAVACH-2023 AT \\nJAISALMERThe Microwave Tube Research \\n& Development Centre (MTRDC), \\nBengaluru, celebrated State \\nFormation Day, the Karnataka \\nRajyotsava, on 17 November 2023. Dr  Ganesha Bhatt, Retired Principle of MES educational institution, was the Chief Guest of the event. Dr Sudhamani, \\nProgramme Co-ordinator, \\nwelcomed the Chief Guest, Director, LRDE & MTRDC, Centre Head, MTRDC, and the gathering on the occasion. The Chief Guest \\nspoke about Kannada, the classical \\nlanguage, its rich heritage, and the recipient of the highest number of Jnanapith awards next to Hindi. Dr SK Datta, Centre Head, MTRDC, and Shri G Viswam, Director, \\nLRDE & MTRDC, addressed the \\ngathering. A cultural program was \\nalso organised on the occasion. Shri Srinidhi\\t Katti,\\ta\\tprofessional\\t flute\\t\\nmaestro, mesmerized the audience with\\this\\tflute\\tperformance.\\t At\\tthe\\t\\nend, a vote of thanks was proposed\\n \\nby Shri Jayateertha D, Sc ‘E’.\\nWith the aim to check the \\nreadiness of Indian Army for \\nresponding to any nuclear \\neventuality an exercise was conducted by 10 Eng. Bde Secundrabad in collaboration with 475 Eng. Bde Nasirabad at Chelak \\nNagraja Jaisalmer, Rajasthan \\nduring 17-18 October 2023. A team\\tof\\tofficers\\t and\\tstaff\\tfrom\\t\\nDL, Jodhpur participated in the exercise at Jaisalmer along with various DLJ developed/inducted \\nnuclear instruments and systems. \\nDuring the exercise, portal monitor and hand foot contamination monitoring\\t systems\\t were\\tfielded\\t\\nin the exercise and various \\nhand-held nuclear instruments have been demonstrated in static display. In addition, the CBRN\\twater\\tpurification\\t system\\t  \\nMK-II was also displayed during the exercise.')],\n",
       " 'answer': '\\nThe Microwave Tube Research & Development Centre (MTRDC), Bengaluru, celebrated Karnataka Rajyotsava on November 17th, 2023. Dr Ganesha Bhatt, Retired Principal of a MES educational institution, was the Chief Guest for the event. The gathering included the Director and Centre Head of LRDE & MTRDC, among others. The Chief Guest spoke about Kannada, a classical language with rich heritage and recipient of the highest number of Jnanapith awards next to Hindi. Cultural programs were organized and a flute maestro, Shri Srinidhi Katti, performed. At the end, Shri Jayateertha D proposed a vote of thanks.\\nIn addition, an exercise was conducted between 10 Eng. Bde Secundrabad and 475 Eng. Bde Nasirabad at Chelak Nagraja Jaisalmer, Rajasthan from October 17-18, 2023. The aim of the exercise was to check the readiness of the Indian Army in responding to any nuclear eventuality. A team from DL, Jodhpur participated in the exercise and showcased various nuclear instruments and systems, including portal monitors, hand foot contamination monitoring systems, and the CBRN water purification system MK-II.'}"
      ]
     },
     "execution_count": 20,
     "metadata": {},
     "output_type": "execute_result"
    }
   ],
   "source": [
    "ans"
   ]
  },
  {
   "cell_type": "code",
   "execution_count": 21,
   "metadata": {},
   "outputs": [
    {
     "data": {
      "text/plain": [
       "'  The Microwave Tube Research & Development Centre (MTRDC), Bengaluru, celebrated Karnataka Rajyotsava on November 17th, 2023. Dr Ganesha Bhatt, Retired Principal of a MES educational institution, was the Chief Guest for the event. The gathering included the Director and Centre Head of LRDE & MTRDC, among others. The Chief Guest spoke about Kannada, a classical language with rich heritage and recipient of the highest number of Jnanapith awards next to Hindi. Cultural programs were organized and a flute maestro, Shri Srinidhi Katti, performed. At the end, Shri Jayateertha D proposed a vote of thanks.  In addition, an exercise was conducted between 10 Eng. Bde Secundrabad and 475 Eng. Bde Nasirabad at Chelak Nagraja Jaisalmer, Rajasthan from October 17-18, 2023. The aim of the exercise was to check the readiness of the Indian Army in responding to any nuclear eventuality. A team from DL, Jodhpur participated in the exercise and showcased various nuclear instruments and systems, including portal monitors, hand foot contamination monitoring systems, and the CBRN water purification system MK-II.'"
      ]
     },
     "execution_count": 21,
     "metadata": {},
     "output_type": "execute_result"
    }
   ],
   "source": [
    "st = ans['answer']\n",
    "stt = st.replace(\"\\n\", \"  \")\n",
    "stt"
   ]
  },
  {
   "cell_type": "code",
   "execution_count": null,
   "metadata": {},
   "outputs": [],
   "source": []
  }
 ],
 "metadata": {
  "kernelspec": {
   "display_name": "base",
   "language": "python",
   "name": "python3"
  },
  "language_info": {
   "codemirror_mode": {
    "name": "ipython",
    "version": 3
   },
   "file_extension": ".py",
   "mimetype": "text/x-python",
   "name": "python",
   "nbconvert_exporter": "python",
   "pygments_lexer": "ipython3",
   "version": "3.12.3"
  }
 },
 "nbformat": 4,
 "nbformat_minor": 2
}

{
 "cells": [
  {
   "cell_type": "markdown",
   "metadata": {},
   "source": [
    "## Rag (Method 1)"
   ]
  },
  {
   "cell_type": "markdown",
   "metadata": {},
   "source": [
    "### Loading Doc"
   ]
  },
  {
   "cell_type": "code",
   "execution_count": 1,
   "metadata": {},
   "outputs": [],
   "source": [
    "from langchain_community.document_loaders import PyPDFLoader\n",
    "loader=PyPDFLoader('NL_January2024.pdf')\n",
    "docs=loader.load()"
   ]
  },
  {
   "cell_type": "markdown",
   "metadata": {},
   "source": [
    "#### Text preprocessing function"
   ]
  },
  {
   "cell_type": "code",
   "execution_count": 2,
   "metadata": {},
   "outputs": [],
   "source": [
    "def store_string_to_text_file(string_to_store, file_path):\n",
    "\n",
    "  with open(file_path, 'w') as file:\n",
    "    file.write(string_to_store)\n",
    "\n",
    "\n",
    "file_name = \"answer.txt\""
   ]
  },
  {
   "cell_type": "markdown",
   "metadata": {},
   "source": [
    "### Text Splitting"
   ]
  },
  {
   "cell_type": "code",
   "execution_count": 3,
   "metadata": {},
   "outputs": [],
   "source": [
    "from langchain_text_splitters import RecursiveCharacterTextSplitter\n",
    "text_splitter = RecursiveCharacterTextSplitter(chunk_size=3000, chunk_overlap=100)"
   ]
  },
  {
   "cell_type": "code",
   "execution_count": 4,
   "metadata": {},
   "outputs": [],
   "source": [
    "chunks = text_splitter.split_documents(docs)"
   ]
  },
  {
   "cell_type": "markdown",
   "metadata": {},
   "source": [
    "### Embedding And Storing"
   ]
  },
  {
   "cell_type": "code",
   "execution_count": 6,
   "metadata": {},
   "outputs": [],
   "source": [
    "from langchain_huggingface.embeddings import HuggingFaceEmbeddings\n",
    "from langchain_community.vectorstores import Chroma"
   ]
  },
  {
   "cell_type": "code",
   "execution_count": 7,
   "metadata": {},
   "outputs": [
    {
     "name": "stderr",
     "output_type": "stream",
     "text": [
      "c:\\Users\\Arjun\\anaconda3\\Lib\\site-packages\\sentence_transformers\\cross_encoder\\CrossEncoder.py:11: TqdmExperimentalWarning: Using `tqdm.autonotebook.tqdm` in notebook mode. Use `tqdm.tqdm` instead to force console mode (e.g. in jupyter console)\n",
      "  from tqdm.autonotebook import tqdm, trange\n",
      "c:\\Users\\Arjun\\anaconda3\\Lib\\site-packages\\huggingface_hub\\file_download.py:1150: FutureWarning: `resume_download` is deprecated and will be removed in version 1.0.0. Downloads always resume when possible. If you want to force a new download, use `force_download=True`.\n",
      "  warnings.warn(\n"
     ]
    }
   ],
   "source": [
    "embedding_model = HuggingFaceEmbeddings(model_name=\"sentence-transformers/all-mpnet-base-v2\")\n",
    "# embedding_model = HuggingFaceEmbeddings(model_name=\"mixedbread-ai/mxbai-embed-large-v1\")"
   ]
  },
  {
   "cell_type": "code",
   "execution_count": 7,
   "metadata": {},
   "outputs": [],
   "source": [
    "# vector_db = Chroma.from_documents(documents=chunks,\n",
    "#                                   embedding=embedding_model,\n",
    "#                                   persist_directory=\"data_base_1\",\n",
    "#                                   )\n"
   ]
  },
  {
   "cell_type": "markdown",
   "metadata": {},
   "source": [
    "##### Load VectorDB (if have)"
   ]
  },
  {
   "cell_type": "code",
   "execution_count": 8,
   "metadata": {},
   "outputs": [
    {
     "name": "stderr",
     "output_type": "stream",
     "text": [
      "c:\\Users\\Arjun\\anaconda3\\Lib\\site-packages\\langchain_core\\_api\\deprecation.py:139: LangChainDeprecationWarning: The class `Chroma` was deprecated in LangChain 0.2.9 and will be removed in 0.4. An updated version of the class exists in the langchain-chroma package and should be used instead. To use it run `pip install -U langchain-chroma` and import as `from langchain_chroma import Chroma`.\n",
      "  warn_deprecated(\n",
      "c:\\Users\\Arjun\\anaconda3\\Lib\\site-packages\\onnxruntime\\capi\\onnxruntime_validation.py:26: UserWarning: Unsupported Windows version (11). ONNX Runtime supports Windows 10 and above, only.\n",
      "  warnings.warn(\n"
     ]
    }
   ],
   "source": [
    "vector_db = Chroma(persist_directory=\"data_base_1\",\n",
    "                   embedding_function=embedding_model)"
   ]
  },
  {
   "cell_type": "code",
   "execution_count": 9,
   "metadata": {},
   "outputs": [],
   "source": [
    "retriver = vector_db.as_retriever(search_kwargs={'k': 3})"
   ]
  },
  {
   "cell_type": "markdown",
   "metadata": {},
   "source": [
    "### Testing Retriever"
   ]
  },
  {
   "cell_type": "code",
   "execution_count": 10,
   "metadata": {},
   "outputs": [
    {
     "data": {
      "text/plain": [
       "[Document(metadata={'page': 8, 'source': 'NL_January2024.pdf'}, page_content=\"9\\n|   JANUARY 2024\\nDRDO NEWSLETTEREVENTS\\nRUN FOR UNITY\\nDL, Jodhpur\\nOn the Rashtriya Ekta Diwas \\norganised on 31 October 2023, \\nall\\tthe\\tofficers\\t and\\tstaff\\tof\\tthe\\t\\nDefence Laboratory, Jodhpur (DLJ) took the Rashtriya Ekta Diwas Pledge. Further, ‘Run for Unity’ was organised to spread the message of unity in society. The event was led by Shri RV Hara \\nPrasad, Outstanding Scientist & \\nDirector, DLJ. During his address, he highlighted the contributions made by the legend Sardar Vallabh Bhai Patel in the freedom struggle \\nand national integration after \\nindependence.\\nISSA, Delhi \\nOn 31 October 2023, Institute \\nfor Systems Studies & Analyses \\n(ISSA), Delhi, organised ‘Run for Unity’ from Metcalfe House to Qudasia Bagh, near ISBT \\nKashmere Gate. It is an 18th-\\ncentury garden complex with depictions of the Indian freedom struggle movement. \\nAll\\tofficers\\t and\\tstaff\\tof\\tthe\\t\\nlaboratory took part in the \\ncelebration.\\n MTRDC, Bengaluru\\n Microwave Tube Research & \\nDevelopment Centre (MTRDC), \\nBengaluru, organized ‘Run for \\nUnity’ on 31 October 2023. All \\nofficers\\tand\\tstaff\\tenthusiastically\\t\\nparticipated in the event. NSTL, Visakhapatnam\\nNaval Science & Technological \\nLaboratory (NSTL), \\nVisakhapatnam, organised ‘Run for Unity’ on 31 October 2023 by conducting a 2 km run from \\nMohapatra Manasi Auditorium \\nthrough the NSTL residential area and terminating at the same place. Dr Abraham Varughese, OS & Director, NSTL, gave the opening remarks and administered the \\nRashtriya Ekta Diwas pledge. He \\nhighlighted\\t the\\tsignificance\\t of\\tthe\\t\\nday and narrated the contributions of Sri Sardar Vallabhbhai Patel to our great nation.\\nAround four hundred people, \\nincluding the regular employees of\\tNSTL,\\tthe\\toffice\\tof\\tthe\\tDG\\t\\n(NS&M), the AO (R&D), DSC \\npersonnel, members of NSTL \\nMahila Kalyan Manch (MKM), children, and teachers from Ramanath Secondary School, enthusiastically participated. People ran with the National Flag \\nand many placards written on \\nRashtriya Ekta. All participants received specially designed caps.\\n'Run for Unity at ISSA, Delhi 'Run for Unity at NSTL, Visakhapatnam\"),\n",
       " Document(metadata={'page': 2, 'source': 'NL_January2024.pdf'}, page_content='3\\n|   JANUARY 2024\\nDRDO NEWSLETTERContents\\n21 PERSONNEL NEWS4 COVER STORY\\n   16 HRD ACTIVITIES\\n24 VISITS8 EVENTS6 INNOVATIONS\\n22 SPORTS NEWS'),\n",
       " Document(metadata={'page': 4, 'source': 'NL_January2024.pdf'}, page_content=\"5\\n|   JANUARY 2024\\nDRDO NEWSLETTERCOVER STORY\\nefficiency\\t and\\tsaving\\tthe\\tvaluable\\t\\ntime of the projects. An in-house \\nR&QA half-yearly Quality Bulletin \\n‘Quintessence’ was also released \\non the occasion.DSP\\temphasized\\t the\\tsignificance\\t\\nof Quality for Space projects and \\nalso encouraged to work towards \\nZero defect and First time right.\\nSmt V Viraja, Sc’G’ & Head, \\nDQA, DLRL graced the event as Chief Guest and gave the Inaugural Address on ‘FRACAS: \\nFailure Reporting, Analysis and \\nCorrective Action System’.\\nDL, Jodhpur\\nDefence Laboratory, Jodhpur \\n(DLJ) celebrated World Quality Week 2023 during 6-10 November \\n2023. Dr Ravi Raja, Sc ‘F’& Director, \\nSQR O/o DG (NS&M), delivered a talk on ‘Achieving Quality by Design Selection and Maintenance of Launcher Hydraulic System’. Dr Sushma Verma, Sc ‘F’, DQR&S, DRDO HQrs, Delhi, shared \\n‘DRDO Quality Policy and QRAMS \\nUpdates’. Shri Yashpal Chouhan, Sc ‘F’, DLJ, gave a presentation on ‘Lessons Learned from Failure Reporting and Analysis’.\\nMTRDC, Bengaluru\\nMicrowave Tube Research and \\nDevelopment Centre (MTRDC), Bengaluru, celebrated World \\nQuality Week 2023 during 06-\\n10 November 2023. During the celebration, various competitions like essay, poster, slogan, debate, quiz, and talk were organised.The talk was delivered by  \\nShri\\tC\\tSuresh,\\tTechnical\\t Officer\\t‘C’.\\t\\nBoth Hindi and English were the acceptable mediums of expression for the competitions and activities. Commendation\\t certificates\\t were\\t\\ndistributed to the winners. The participation and enthusiasm of the employees of MTRDC were overwhelming.\\nIRDE, Dehradun\\nThe World Quality Week was \\ncelebrated at the Instruments Research & Development \\nEstablishment (IRDE), Dehradun, \\nduring 06-10 November 2023. The Chief Guests of the function were Shri Niraj Bhargava, Sc ‘H’ & Associate Director, IRDE, and Dr Neeraj Pandey, Associate \\nProfessor, Graphics Era Deemed \\nUniversity, Dehradun. Addressing the gathering, Shri Niraj Bhargava stressed the importance of quality \\nin life as well as in the organisation.  \\nShri Akash Singh, Sc 'F', and  \\nShri Krishna Murari, Sc ‘E’, IRDE, also gave talks.\\nDSP, Hyderabad\\nWorld Quality Month was \\ncelebrated at Directorate of Special Projects (DSP), Hyderabad on \\n17 November 2023. Dr A Swarna \\nBai, Technology Director, R&QA welcomed the gathering, followed by her Welcome Address. Dr Anupam Sharma, OS & Director, NMRL, Ambernath\\nWorld Quality Day and \\nAyurveda Day were celebrated at the Naval Materials Research \\nLaboratory (NMRL), Ambernath, \\non 10 November 2023. As a part of the celebration, three guest speakers were invited to speak on the subjects relevant to improvement in quality of work and health.\")]"
      ]
     },
     "execution_count": 10,
     "metadata": {},
     "output_type": "execute_result"
    }
   ],
   "source": [
    "vector_db.similarity_search(\"where run for unity organized ?\", k=3)"
   ]
  },
  {
   "cell_type": "markdown",
   "metadata": {},
   "source": [
    "### Prompt Passing"
   ]
  },
  {
   "cell_type": "code",
   "execution_count": 11,
   "metadata": {},
   "outputs": [],
   "source": [
    "from langchain_community.llms import Ollama\n",
    "llm = Ollama(model=\"llama3\")\n"
   ]
  },
  {
   "cell_type": "code",
   "execution_count": 12,
   "metadata": {},
   "outputs": [],
   "source": [
    "from langchain_core.prompts import ChatPromptTemplate\n",
    "prompt = ChatPromptTemplate.from_template(\n",
    "    \"\"\" \n",
    "    Answer the following question based on the provided context.\n",
    "    Note : analyse given context carefully\n",
    "    <context>\n",
    "    {context}\n",
    "    </context>\n",
    "\n",
    "    Question : {input}\"\"\")\n"
   ]
  },
  {
   "cell_type": "code",
   "execution_count": 13,
   "metadata": {},
   "outputs": [],
   "source": [
    "from langchain.chains.combine_documents import create_stuff_documents_chain\n",
    "\n",
    "document_chain = create_stuff_documents_chain(llm, prompt)"
   ]
  },
  {
   "cell_type": "code",
   "execution_count": 14,
   "metadata": {},
   "outputs": [],
   "source": [
    "from langchain.chains import create_retrieval_chain\n",
    "retrival_chain = create_retrieval_chain(retriver, document_chain)"
   ]
  },
  {
   "cell_type": "markdown",
   "metadata": {},
   "source": [
    "##### Question 1"
   ]
  },
  {
   "cell_type": "code",
   "execution_count": 26,
   "metadata": {},
   "outputs": [],
   "source": [
    "ans = retrival_chain.invoke({\"input\" : \"List of all the places where RUN FOR UNITY was organized\"})"
   ]
  },
  {
   "cell_type": "code",
   "execution_count": 27,
   "metadata": {},
   "outputs": [
    {
     "data": {
      "text/plain": [
       "{'input': 'List of all the places where RUN FOR UNITY was organized',\n",
       " 'context': [Document(metadata={'page': 8, 'source': 'NL_January2024.pdf'}, page_content=\"9\\n|   JANUARY 2024\\nDRDO NEWSLETTEREVENTS\\nRUN FOR UNITY\\nDL, Jodhpur\\nOn the Rashtriya Ekta Diwas \\norganised on 31 October 2023, \\nall\\tthe\\tofficers\\t and\\tstaff\\tof\\tthe\\t\\nDefence Laboratory, Jodhpur (DLJ) took the Rashtriya Ekta Diwas Pledge. Further, ‘Run for Unity’ was organised to spread the message of unity in society. The event was led by Shri RV Hara \\nPrasad, Outstanding Scientist & \\nDirector, DLJ. During his address, he highlighted the contributions made by the legend Sardar Vallabh Bhai Patel in the freedom struggle \\nand national integration after \\nindependence.\\nISSA, Delhi \\nOn 31 October 2023, Institute \\nfor Systems Studies & Analyses \\n(ISSA), Delhi, organised ‘Run for Unity’ from Metcalfe House to Qudasia Bagh, near ISBT \\nKashmere Gate. It is an 18th-\\ncentury garden complex with depictions of the Indian freedom struggle movement. \\nAll\\tofficers\\t and\\tstaff\\tof\\tthe\\t\\nlaboratory took part in the \\ncelebration.\\n MTRDC, Bengaluru\\n Microwave Tube Research & \\nDevelopment Centre (MTRDC), \\nBengaluru, organized ‘Run for \\nUnity’ on 31 October 2023. All \\nofficers\\tand\\tstaff\\tenthusiastically\\t\\nparticipated in the event. NSTL, Visakhapatnam\\nNaval Science & Technological \\nLaboratory (NSTL), \\nVisakhapatnam, organised ‘Run for Unity’ on 31 October 2023 by conducting a 2 km run from \\nMohapatra Manasi Auditorium \\nthrough the NSTL residential area and terminating at the same place. Dr Abraham Varughese, OS & Director, NSTL, gave the opening remarks and administered the \\nRashtriya Ekta Diwas pledge. He \\nhighlighted\\t the\\tsignificance\\t of\\tthe\\t\\nday and narrated the contributions of Sri Sardar Vallabhbhai Patel to our great nation.\\nAround four hundred people, \\nincluding the regular employees of\\tNSTL,\\tthe\\toffice\\tof\\tthe\\tDG\\t\\n(NS&M), the AO (R&D), DSC \\npersonnel, members of NSTL \\nMahila Kalyan Manch (MKM), children, and teachers from Ramanath Secondary School, enthusiastically participated. People ran with the National Flag \\nand many placards written on \\nRashtriya Ekta. All participants received specially designed caps.\\n'Run for Unity at ISSA, Delhi 'Run for Unity at NSTL, Visakhapatnam\"),\n",
       "  Document(metadata={'page': 2, 'source': 'NL_January2024.pdf'}, page_content='3\\n|   JANUARY 2024\\nDRDO NEWSLETTERContents\\n21 PERSONNEL NEWS4 COVER STORY\\n   16 HRD ACTIVITIES\\n24 VISITS8 EVENTS6 INNOVATIONS\\n22 SPORTS NEWS'),\n",
       "  Document(metadata={'page': 21, 'source': 'NL_January2024.pdf'}, page_content='22\\n|   JANUARY 2024\\nDRDO NEWSLETTERSPORTS NEWS\\nDRDO NORTH ZONE CARROM TOURNAMENT\\nThe Defence Geoinformatics \\nResearch Establishment (DGRE), \\nChandigarh, hosted the DRDO \\nNorth Zone Carrom Tournament \\nduring 28 November 2023 to 01 December 2023. Dr PK Satyawali, OS & Director, DGRE, inaugurated the event and urged all the players with zeal and enthusiasm.  \\nShri Niranjan Kumar, DESIDOC, won the Men’s Singles; Shri Vikas Kharola and Surendra Singh, IRDE, won the Men’s Doubles; Ms Supriya Aherwar, JCB, won \\nthe Women’s Singles; Ms Monica \\nTondon and Ms Usha Kumari, IRDE, won the Women’s Doubles; Shri NK Balodi, DEAL, won the Veterans Single; and Shri Bharat Singh and Shri Bhagat Ram, IRDE, \\nwon the Veterans Doubles. \\nDRDO NORTH ZONE KABADDI TOURNAMENT \\nThe Defence Materials and \\nStores Research & Development \\nEstablishment (DMSRDE), \\nKanpur, organised DRDO North \\nZone Kabaddi Tournament 2023 during 06-09 November 2023. Dr Mayank Dwivedi, OS & Director, DMSRDE, was the Chief Guest for the inaugural event of \\nthe tournament. Overall, seven \\nteams from sister laboratories, namely TBRL, INMAS, CFEES, DEAL, IRDE, SAG, and host DMSRDE, participated in the \\ntournament. TBRL, Chandigarh, \\nwon the tournament by defeating INMAS,\\t Delhi,\\t in\\tthe\\tfinal.\\t\\nDirector, DMSRDE congratulated and greeted the winners. Three players from TBRL, two players \\nfrom INMAS, and one player from \\nDEAL, IRDE, SAG, CFEES, and \\nDMSRDE were selected and will represent the North Zone during the DRDO Nationals tournament. Dr Ashish Dubey, Sc ‘F’ & Sports Officer\\torganised\\tthe\\ttournament.')],\n",
       " 'answer': 'Based on the provided context, \"Run for Unity\" was organized at the following places:\\n\\n1. Defence Laboratory (DL), Jodhpur\\n2. Institute for Systems Studies & Analyses (ISSA), Delhi\\n3. Microwave Tube Research & Development Centre (MTRDC), Bengaluru\\n4. Naval Science & Technological Laboratory (NSTL), Visakhapatnam'}"
      ]
     },
     "execution_count": 27,
     "metadata": {},
     "output_type": "execute_result"
    }
   ],
   "source": [
    "ans"
   ]
  },
  {
   "cell_type": "code",
   "execution_count": 28,
   "metadata": {},
   "outputs": [
    {
     "data": {
      "text/plain": [
       "'Based on the provided context, \"Run for Unity\" was organized at the following places:    1. Defence Laboratory (DL), Jodhpur  2. Institute for Systems Studies & Analyses (ISSA), Delhi  3. Microwave Tube Research & Development Centre (MTRDC), Bengaluru  4. Naval Science & Technological Laboratory (NSTL), Visakhapatnam'"
      ]
     },
     "execution_count": 28,
     "metadata": {},
     "output_type": "execute_result"
    }
   ],
   "source": [
    "st = ans['answer']\n",
    "stt = st.replace(\"\\n\", \"  \")\n",
    "stt"
   ]
  },
  {
   "cell_type": "code",
   "execution_count": 24,
   "metadata": {},
   "outputs": [],
   "source": [
    "\n",
    "store_string_to_text_file(ans['answer'], file_name)"
   ]
  },
  {
   "cell_type": "markdown",
   "metadata": {},
   "source": [
    "##### Question 2"
   ]
  },
  {
   "cell_type": "code",
   "execution_count": 20,
   "metadata": {},
   "outputs": [],
   "source": [
    "ans2 = retrival_chain.invoke({\"input\" : \"List of all the places where Vigilance Awareness Week was organized\"})"
   ]
  },
  {
   "cell_type": "code",
   "execution_count": 21,
   "metadata": {},
   "outputs": [
    {
     "data": {
      "text/plain": [
       "{'input': 'List of all the places where Vigilance Awareness Week was organized',\n",
       " 'context': [Document(metadata={'page': 7, 'source': 'NL_January2024.pdf'}, page_content=\"8\\n|   JANUARY 2024\\nDRDO NEWSLETTEREVENTS\\nVIGILANCE AWARENESS WEEK\\nVigilance Awareness Week is observed every year during the week in which the birthday of \\nSardar Vallabhbhai Patel (31 October) falls. The theme of this year’s Vigilance Awareness Week was ‘Say No to Corruption, Commit to the Nation’.\\nDL, Jodhpur\\nVigilance Awareness Week was \\ncelebrated during 30 October to 3 November 2023 at the Defence \\nLaboratory, Jodhpur (DLJ). All \\nthe\\tofficers\\tand\\tstaff\\ttook\\ta\\tpledge\\t\\nregarding vigilance. A lecture on 'Say No to Corruption: Commit \\nto the Nation' was delivered by \\nShri Harendra Kumar Mahawar, \\nIPS, IG, Anti-Corruption Bureau, \\nJodhpur, on the occasion.\\nIRDE, Dehradun\\nInstruments Research & \\nDevelopment Establishment (IRDE), Dehradun, observed \\nVigilance Awareness Week during \\n30 October 2023 to 05 November 2023 to increase awareness about the perils of corruption. The event commenced with the integrity pledge\\tby\\tall\\tthe\\tofficers\\tand\\tstaff\\t\\nof IRDE on 30 October 2023. Shri Girraj Prasad, Sc ‘F’ talked about procurement on 31 October 2023. On the occasion, a lecture was delivered by Dr V Murugesan (IPS), Director Vigilance, Uttarakhand, on 01 November 2023. Various activities, like essay and slogan writing, were also \\norganised during the week.\\nSFC, Jagdalpur\\nVigilance Awareness Week was \\ncelebrated at SF Complex (SFC), \\nJagdalpur during 30 October \\n2023 to 05 November 2023. \\nVigilance pledge was taken by all\\tofficers\\tand\\tstaff\\ton\\tinaugural\\t\\nfunction. Quiz competitions and slogan writing competitions \\nwere organised as a part of the \\ncelebrations. Technical lectures on\\t‘Classification\\t of\\tDocument’\\t\\nwere\\tgiven\\tby\\tvigilance\\t officer\\tShri\\t\\nAmarjeet Kumar, SC ‘E’. During \\nclosing ceremony, a presentation \\non ‘Recent Intelligence Threats’ were delivered by IB in-charge Jagdalpur and also talk on ‘Security & Vigilance Concern’ were given by OC, unit-667.\\nDr MVL Ramesh, Sc ’G’ & \\nGeneral Manager, SFC addressed the gathering and emphasized on importance and critical role of SFC. He told to all employees \\nto be vigilant and perform duties \\nwithout disclosing identity and nature of work of laboratory. He also cautioned regarding increasing trend of cyber threat as it is becoming the easy tool for \\ntrapping the defence employees. \\nHe\\talso\\tappreciated\\t the\\tefforts\\t\\nby SFC vigilance department in creating vigilance and cyber awareness.\"),\n",
       "  Document(metadata={'page': 8, 'source': 'NL_January2024.pdf'}, page_content=\"9\\n|   JANUARY 2024\\nDRDO NEWSLETTEREVENTS\\nRUN FOR UNITY\\nDL, Jodhpur\\nOn the Rashtriya Ekta Diwas \\norganised on 31 October 2023, \\nall\\tthe\\tofficers\\t and\\tstaff\\tof\\tthe\\t\\nDefence Laboratory, Jodhpur (DLJ) took the Rashtriya Ekta Diwas Pledge. Further, ‘Run for Unity’ was organised to spread the message of unity in society. The event was led by Shri RV Hara \\nPrasad, Outstanding Scientist & \\nDirector, DLJ. During his address, he highlighted the contributions made by the legend Sardar Vallabh Bhai Patel in the freedom struggle \\nand national integration after \\nindependence.\\nISSA, Delhi \\nOn 31 October 2023, Institute \\nfor Systems Studies & Analyses \\n(ISSA), Delhi, organised ‘Run for Unity’ from Metcalfe House to Qudasia Bagh, near ISBT \\nKashmere Gate. It is an 18th-\\ncentury garden complex with depictions of the Indian freedom struggle movement. \\nAll\\tofficers\\t and\\tstaff\\tof\\tthe\\t\\nlaboratory took part in the \\ncelebration.\\n MTRDC, Bengaluru\\n Microwave Tube Research & \\nDevelopment Centre (MTRDC), \\nBengaluru, organized ‘Run for \\nUnity’ on 31 October 2023. All \\nofficers\\tand\\tstaff\\tenthusiastically\\t\\nparticipated in the event. NSTL, Visakhapatnam\\nNaval Science & Technological \\nLaboratory (NSTL), \\nVisakhapatnam, organised ‘Run for Unity’ on 31 October 2023 by conducting a 2 km run from \\nMohapatra Manasi Auditorium \\nthrough the NSTL residential area and terminating at the same place. Dr Abraham Varughese, OS & Director, NSTL, gave the opening remarks and administered the \\nRashtriya Ekta Diwas pledge. He \\nhighlighted\\t the\\tsignificance\\t of\\tthe\\t\\nday and narrated the contributions of Sri Sardar Vallabhbhai Patel to our great nation.\\nAround four hundred people, \\nincluding the regular employees of\\tNSTL,\\tthe\\toffice\\tof\\tthe\\tDG\\t\\n(NS&M), the AO (R&D), DSC \\npersonnel, members of NSTL \\nMahila Kalyan Manch (MKM), children, and teachers from Ramanath Secondary School, enthusiastically participated. People ran with the National Flag \\nand many placards written on \\nRashtriya Ekta. All participants received specially designed caps.\\n'Run for Unity at ISSA, Delhi 'Run for Unity at NSTL, Visakhapatnam\"),\n",
       "  Document(metadata={'page': 22, 'source': 'NL_January2024.pdf'}, page_content=\"23\\n|   JANUARY 2024\\nDRDO NEWSLETTERNorth Zone Table \\nTennis Tournament\\nMs Sanjeeta \\nDhegaya, Sc \\n‘D’ represented \\nthe Defence \\nLaboratory,  Jodhpur (DLJ) Ladies Team in the North Zone Table Tennis \\nTournament at \\nthe Instruments Research & Development  Establishment  \\n(IRDE),  \\nDehradun, during 17-20 October 2023, and secured \\nthe\\twinner\\tposition\\t (first\\tposition)\\t\\nin women doubles and a gold \\nmedal.\\nINTRA ZONAL CHESS TOURNAMENT\\nNaval Materials Research \\nLaboratory (NMRL), Ambernath, \\norganised DRDO intra-zonal \\nchess tournament during 13-15 \\nDecember 2023. Shri PT Rojatkar, OS & Director, NMRL, inaugurated the tournament. Participants from Western Zone DRDO laboratories, namely HEMRL, \\nARDE, and NMRL, participated in \\nthe tournament. Individual men, women, and team championship competitions were conducted by referees from the Maharashtra \\nChess Association. The ‘Winner \\nChampion Trophy' was conferred upon NMRL Ambernath and the \\n‘Runner Up Trophy’ to HEMRL, Pune, by the Director, NMRL, during\\tthe\\tclosing.\\tThe\\tcertificates\\tand medals for the winners and runner-ups in the individual category were also distributed.\\nEYE CHECK-UP CAMP AT NSTL\\nThe Naval Science & \\nTechnological Laboratory (NSTL) Civil Employees Union, \\nin association with Chroma \\nEye Hospital, Visakhapatnam, organized a free eye check-up camp during 14-15 November 2023.\\tDr\\tHN\\tDas,\\tOfficiating\\t\\nDirector, NSTL, inaugurated the camp and gave a welcome address. Dr GV Krishna Kumar, GDMS, \\nalso shared his view on awareness \\nof the eye and other related significance.\\t Dr\\tPraggya\\t Rit\\tRoy\\t\\nand his team of MI Room, NSTL, supervised the camp. SPORTS NEWS\")],\n",
       " 'answer': 'Based on the provided context, Vigilance Awareness Week was organized at the following places:\\n\\n1. Defence Laboratory (DL), Jodhpur (30 October to 3 November 2023)\\n2. Instruments Research & Development Establishment (IRDE), Dehradun (30 October to 5 November 2023)\\n3. SF Complex (SFC), Jagdalpur (30 October 2023 to 5 November 2023)\\n\\nLet me know if you have any further questions!'}"
      ]
     },
     "execution_count": 21,
     "metadata": {},
     "output_type": "execute_result"
    }
   ],
   "source": [
    "ans2"
   ]
  },
  {
   "cell_type": "code",
   "execution_count": 19,
   "metadata": {},
   "outputs": [
    {
     "data": {
      "text/plain": [
       "'Based on the provided context, the list of places where Vigilance Awareness Week was organized are:    1. Defence Laboratory (DL), Jodhpur  2. Instruments Research & Development Establishment (IRDE), Dehradun'"
      ]
     },
     "execution_count": 19,
     "metadata": {},
     "output_type": "execute_result"
    }
   ],
   "source": [
    "st2 = ans2['answer']\n",
    "stt2 = st2.replace(\"\\n\", \"  \")\n",
    "stt2"
   ]
  },
  {
   "cell_type": "markdown",
   "metadata": {},
   "source": [
    "##### Question 3"
   ]
  },
  {
   "cell_type": "code",
   "execution_count": 20,
   "metadata": {},
   "outputs": [],
   "source": [
    "ans = retrival_chain.invoke({\"input\" : \"Give me the summary of KARNATAKA RAJYOTSAVA CELEBRATION\"})"
   ]
  },
  {
   "cell_type": "code",
   "execution_count": 21,
   "metadata": {},
   "outputs": [
    {
     "data": {
      "text/plain": [
       "{'input': 'Give me the summary of KARNATAKA RAJYOTSAVA CELEBRATION',\n",
       " 'context': [Document(metadata={'page': 10, 'source': 'NL_January2024.pdf'}, page_content='11\\n|   JANUARY 2024\\nDRDO NEWSLETTEREVENTS\\n(NPOL), Kochi celebrated its \\n71st Annual Day on 15 December 2023. Dr S Unnikrishnan Nair, DS \\n& Director, VSSC was the Chief \\nGuest for the event. Dr R Rajesh, Sc ‘G’ & Chairman, NPOL Annual Day Organising Committee welcomed the gathering and presented an overview of the \\nfunction. Dr Ajith Kumar K, OS \\n& Director, NPOL presented the report on the achievements of the laboratory in both technical and non-technical areas. Shri \\nWilson K Cherukulath, Sc ‘G’ & \\nChairman, Works Committee & Secretary, Works Committee and General Secretaries of NPOL’s Civilian Employees union and NPOL’s R&D Employees union \\nalso spoke on the occasion. Prizes \\nwere distributed for the sports competitions held during the Annual Day. Instrumental music fusion by ‘RLV College of Music \\nand Fine Arts’ and dance by team \\n‘Arrow’ were other highlights.\\nVRDE, Ahmednagar\\nVehicles Research and \\nDevelopment Establishment (VRDE), Ahmednagar enthusias-\\ntically celebrated its 53rd Annual \\nDay on 03 December 2023. The event was presided over by  \\nDr SV Gade, DS & DG (ACE). Director, VRDE informed that the hard work and synergic team \\nefforts\\tput\\tin\\tby\\tall\\tthe\\temployees\\t\\nhas resulted in achieving all the \\ngoals set for 2023, like Completion of MGS, WhAP (CRPF), WhAP CBRN, launchers for LRAShM, LRLACM, Agni Prime Rail, and no. of ground support systems \\nfor strategic programme. Dr Gade \\nappreciated the achievements of VRDE and emphasized that to meet new challenges, we all should \\nMTRDC, Bengaluru\\nNPOL, Kochi\\nVRDE, Ahmednagar\\nwork for up gradation of skills and try for transformation from product oriented to technology-oriented organisation.'),\n",
       "  Document(metadata={'page': 11, 'source': 'NL_January2024.pdf'}, page_content='12\\n|   JANUARY 2024\\nDRDO NEWSLETTEREVENTS\\nKARNATAKA RAJYOTSAVA CELEBRATION\\nCBRN EXERCISE- PARMANUKAVACH-2023 AT \\nJAISALMERThe Microwave Tube Research \\n& Development Centre (MTRDC), \\nBengaluru, celebrated State \\nFormation Day, the Karnataka \\nRajyotsava, on 17 November 2023. Dr  Ganesha Bhatt, Retired Principle of MES educational institution, was the Chief Guest of the event. Dr Sudhamani, \\nProgramme Co-ordinator, \\nwelcomed the Chief Guest, Director, LRDE & MTRDC, Centre Head, MTRDC, and the gathering on the occasion. The Chief Guest \\nspoke about Kannada, the classical \\nlanguage, its rich heritage, and the recipient of the highest number of Jnanapith awards next to Hindi. Dr SK Datta, Centre Head, MTRDC, and Shri G Viswam, Director, \\nLRDE & MTRDC, addressed the \\ngathering. A cultural program was \\nalso organised on the occasion. Shri Srinidhi\\t Katti,\\ta\\tprofessional\\t flute\\t\\nmaestro, mesmerized the audience with\\this\\tflute\\tperformance.\\t At\\tthe\\t\\nend, a vote of thanks was proposed\\n \\nby Shri Jayateertha D, Sc ‘E’.\\nWith the aim to check the \\nreadiness of Indian Army for \\nresponding to any nuclear \\neventuality an exercise was conducted by 10 Eng. Bde Secundrabad in collaboration with 475 Eng. Bde Nasirabad at Chelak \\nNagraja Jaisalmer, Rajasthan \\nduring 17-18 October 2023. A team\\tof\\tofficers\\t and\\tstaff\\tfrom\\t\\nDL, Jodhpur participated in the exercise at Jaisalmer along with various DLJ developed/inducted \\nnuclear instruments and systems. \\nDuring the exercise, portal monitor and hand foot contamination monitoring\\t systems\\t were\\tfielded\\t\\nin the exercise and various \\nhand-held nuclear instruments have been demonstrated in static display. In addition, the CBRN\\twater\\tpurification\\t system\\t  \\nMK-II was also displayed during the exercise.')],\n",
       " 'answer': 'Here is a summary of the KARNATAKA RAJYOTSAVA CELEBRATION:\\n\\nThe Microwave Tube Research & Development Centre (MTRDC) in Bengaluru celebrated the Karnataka State Formation Day, also known as Rajyotsava, on November 17, 2023. The event was attended by Dr. Ganesha Bhatt, a retired principal, who spoke about the rich heritage and classical language of Kannada. Other attendees included the Centre Head of MTRDC, Director of LRDE & MTRDC, and staff from MTRDC. A cultural program was also organized, featuring a flute performance by Shri Srinidhi Katti, a professional flautist. The event concluded with a vote of thanks proposed by Shri Jayateertha D, an engineer at MTRDC.'}"
      ]
     },
     "execution_count": 21,
     "metadata": {},
     "output_type": "execute_result"
    }
   ],
   "source": [
    "ans"
   ]
  },
  {
   "cell_type": "code",
   "execution_count": 22,
   "metadata": {},
   "outputs": [
    {
     "data": {
      "text/plain": [
       "'Here is a summary of the KARNATAKA RAJYOTSAVA CELEBRATION:    The Microwave Tube Research & Development Centre (MTRDC) in Bengaluru celebrated the Karnataka State Formation Day, also known as Rajyotsava, on November 17, 2023. The event was attended by Dr. Ganesha Bhatt, a retired principal, who spoke about the rich heritage and classical language of Kannada. Other attendees included the Centre Head of MTRDC, Director of LRDE & MTRDC, and staff from MTRDC. A cultural program was also organized, featuring a flute performance by Shri Srinidhi Katti, a professional flautist. The event concluded with a vote of thanks proposed by Shri Jayateertha D, an engineer at MTRDC.'"
      ]
     },
     "execution_count": 22,
     "metadata": {},
     "output_type": "execute_result"
    }
   ],
   "source": [
    "st = ans['answer']\n",
    "stt = st.replace(\"\\n\", \"  \")\n",
    "stt"
   ]
  },
  {
   "cell_type": "markdown",
   "metadata": {},
   "source": [
    "##### Question 4"
   ]
  },
  {
   "cell_type": "code",
   "execution_count": 15,
   "metadata": {},
   "outputs": [],
   "source": [
    "ans = retrival_chain.invoke({\"input\" : \"List of all the places where SWACHHATA PAKHWADA was organized\"})"
   ]
  },
  {
   "cell_type": "code",
   "execution_count": 16,
   "metadata": {},
   "outputs": [
    {
     "data": {
      "text/plain": [
       "{'input': 'List of all the places where SWACHHATA PAKHWADA was organized',\n",
       " 'context': [Document(metadata={'page': 13, 'source': 'NL_January2024.pdf'}, page_content='14\\n|   JANUARY 2024\\nDRDO NEWSLETTEREVENTS\\nSWACHHATA PAKHWADAwas invited as a guest speaker on \\n05 Decemebr 2023. She delivered a lecture on ‘Importance of Millets’ \\nand\\tfocused\\t on\\tthe\\tbenefits\\t of\\t\\nmillets in the diet. Shri PT Rojatkar, \\nOS & Director, NMRL felicitated the speaker. Cooking and poster competitions on millets were also organised on 11 December \\n2023. NMRL employees and their \\nfamily members took part in the competition. Over 200 people visited the exhibition where the posters were displayed. The \\nwinners were awarded with the \\nprices\\tand\\tcertificates.\\nDESIDOC, Delhi\\nThe\\t Defence\\t Scientific\\t\\nInformation & Documentation Centre (DESIDOC), Delhi, \\norganised a swachhata Pakhwada \\nduring 01-15 December 2023. Besides the cleanliness drive during the two-week-long program, a couple of events like poster, slogan, and essay writing \\ncompetitions were also organized. \\nDr K Nageswara Rao, Director, DESIDOC, awarded the prizes and\\tcommendation\\t certificates\\t to\\t\\nthe winners of various events. The all\\tofficers\\tand\\tstaff\\tof\\tDESIDOC\\t\\nenthusiastically took part in the celebration.\\nDL, Jodhpur\\n‘Swachhata Pakhwada’ was \\nobserved at Defence Laboratory, Jodhpur (DLJ) during 01-15 \\nDecember 2023. Various day-by-\\nday activities such as Awareness Day, Records Management Day, Scrap/Waste Disposal Day, Go Green Drive Day and Community Outreach Day were \\nplanned and executed during the \\npakhawada. An essay competition on ‘Swachhata ka Mahatwa’ was conducted by the laboratory Govt \\nSchool of Jodhpur and a rally was \\norganized by depicting banners \\nand placards to create awareness in the society.  \\nEMU, Hyderabad\\nswachhata Pakhwada was \\nobserved at EMU, Hyderabad, during 01-15 December 2023. As \\npart of special campaign week of \\nSwachhata Pakhwada 2023 and also as part of the International Year of Millets (IYM), 2023, ‘Millets Milan’ programme was conducted at Estate Nursery, \\nHyderabad on 08 December 2023.\\nDirectors of Hyderabad \\nstation-based laboratories/\\nestablishments were invited to grace the occasion. In this \\nconnection, mini exposition \\nof millets, millets products, medicinal plants and microgreens was organised. Arboriculture team of EMU (R&D), Hyderabad \\ndemonstrated nutritional'),\n",
       "  Document(metadata={'page': 14, 'source': 'NL_January2024.pdf'}, page_content=\"15\\n|   JANUARY 2024\\nDRDO NEWSLETTEREVENTS\\nand\\thealth\\tbenefits\\t of\\teach\\tMillet\\t\\nthrough pictorial presentation. \\nVariety of competitions \\nwere conducted at Defence \\nLaboratory School, Kanchanbagh and Kendriya Vidyalaya, Kanchanbagh. Dr Anil Khurana, CCE (R&D) Estates South graced the ceremony and addressed that \\nthe children are the ambassadors \\nof the next generation and they should be encouraged for this noble cause.\\nIRDE, Dehradun\\nInstruments Research & \\nDevelopment Establishment (IRDE), Dehradun celebrated \\nSwachhata Pakhwada - Swachhata \\nhi Sewa (SHS) 2023 on 01 October 2023 and Special Campaign 3.0 during 02-31 October 2023. \\nThe aim of the event was to \\nensure the participation of the IRDE fraternity in Swachhata \\nactivities and to truly transform \\nSwachh Bharat into a citizen's movement. A plantation drive was conducted by the Swachhata Vigilance Committee (SVC) of IRDE\\tin\\tvarious\\tlocations\\t of\\toffice\\t\\npremises on 01 October 2023. \\nDr Ajay Kumar, OS & Director, \\nIRDE,\\tand\\tother\\tofficers\\t&\\tstaff\\t\\nactively participated in the plantation drive. SVC paid tribute \\nto the Father of the Nation on 02 \\nOctober 2023. Additionally, the officers\\t and\\tstaff\\tof\\tIRDE\\ttook\\t\\na Swachhta Pledge to further promote sustainable living and discourage the use of plastic bags.\\nTo spread awareness against \\nsingle-use plastics and also to sensitize\\t officers\\tand\\tstaff\\tabout\\t\\nwaste segregation and disposal, a lecture by Shri Anup Nautiyal, a\\tprolific\\tcolumnist\\t and\\tfounder\\t\\nof the ‘Social Development for Communities (SDC) Foundation’ on ‘The Perils of Solid and \\nPlastic Waste Management in \\nUttarakhand’ was also organized.\\nSFC, Jagdalpur\\nThe ‘Swachhata Pakhwada \\nwas observed at SF Complex \\n(SFC), Jagdalpur during  \\n01-15 December 2023. The event was inaugurated on by Dr MVL \\nRamesh, GM, SFC and Swachhata Shapath was taken by all the \\nemployees. EMU, Jagdalpur also \\nparticipated during the events. A \\ntalk on hygiene and sanitation was \\ndelivered by Dr Kothar Raja Veda Vyas. Tree plantation and painting \\ncompetition were conducted at \\nGovt. school Jaitgiri (Bastar) and \\nan awareness rally was organised at tribal village Jaitgiri to promote cleanliness. \\nThe medical camp and millet \\ndistribution drive also organised at \\ntribal village Jaitgiri.  All the winners \\nare awarded with prize by Dr MVL Ramesh, General Manager, SFC.  \\nDr Ramesh addressed the gathering and emphasised the \\nimportance of cleanliness in \\nour life to avoid the disease and improve the living wellbeing.\"),\n",
       "  Document(metadata={'page': 8, 'source': 'NL_January2024.pdf'}, page_content=\"9\\n|   JANUARY 2024\\nDRDO NEWSLETTEREVENTS\\nRUN FOR UNITY\\nDL, Jodhpur\\nOn the Rashtriya Ekta Diwas \\norganised on 31 October 2023, \\nall\\tthe\\tofficers\\t and\\tstaff\\tof\\tthe\\t\\nDefence Laboratory, Jodhpur (DLJ) took the Rashtriya Ekta Diwas Pledge. Further, ‘Run for Unity’ was organised to spread the message of unity in society. The event was led by Shri RV Hara \\nPrasad, Outstanding Scientist & \\nDirector, DLJ. During his address, he highlighted the contributions made by the legend Sardar Vallabh Bhai Patel in the freedom struggle \\nand national integration after \\nindependence.\\nISSA, Delhi \\nOn 31 October 2023, Institute \\nfor Systems Studies & Analyses \\n(ISSA), Delhi, organised ‘Run for Unity’ from Metcalfe House to Qudasia Bagh, near ISBT \\nKashmere Gate. It is an 18th-\\ncentury garden complex with depictions of the Indian freedom struggle movement. \\nAll\\tofficers\\t and\\tstaff\\tof\\tthe\\t\\nlaboratory took part in the \\ncelebration.\\n MTRDC, Bengaluru\\n Microwave Tube Research & \\nDevelopment Centre (MTRDC), \\nBengaluru, organized ‘Run for \\nUnity’ on 31 October 2023. All \\nofficers\\tand\\tstaff\\tenthusiastically\\t\\nparticipated in the event. NSTL, Visakhapatnam\\nNaval Science & Technological \\nLaboratory (NSTL), \\nVisakhapatnam, organised ‘Run for Unity’ on 31 October 2023 by conducting a 2 km run from \\nMohapatra Manasi Auditorium \\nthrough the NSTL residential area and terminating at the same place. Dr Abraham Varughese, OS & Director, NSTL, gave the opening remarks and administered the \\nRashtriya Ekta Diwas pledge. He \\nhighlighted\\t the\\tsignificance\\t of\\tthe\\t\\nday and narrated the contributions of Sri Sardar Vallabhbhai Patel to our great nation.\\nAround four hundred people, \\nincluding the regular employees of\\tNSTL,\\tthe\\toffice\\tof\\tthe\\tDG\\t\\n(NS&M), the AO (R&D), DSC \\npersonnel, members of NSTL \\nMahila Kalyan Manch (MKM), children, and teachers from Ramanath Secondary School, enthusiastically participated. People ran with the National Flag \\nand many placards written on \\nRashtriya Ekta. All participants received specially designed caps.\\n'Run for Unity at ISSA, Delhi 'Run for Unity at NSTL, Visakhapatnam\")],\n",
       " 'answer': 'Based on the provided context, the list of places where SWACHHATA PAKHWADA was organized is:\\n\\n1. DESIDOC, Delhi\\n2. Defence Laboratory, Jodhpur (DLJ)\\n3. EMU, Hyderabad\\n4. Instruments Research & Development Establishment (IRDE), Dehradun\\n5. SF Complex (SFC), Jagdalpur'}"
      ]
     },
     "execution_count": 16,
     "metadata": {},
     "output_type": "execute_result"
    }
   ],
   "source": [
    "ans"
   ]
  },
  {
   "cell_type": "code",
   "execution_count": 17,
   "metadata": {},
   "outputs": [
    {
     "data": {
      "text/plain": [
       "'Based on the provided context, the list of places where SWACHHATA PAKHWADA was organized is:    1. DESIDOC, Delhi  2. Defence Laboratory, Jodhpur (DLJ)  3. EMU, Hyderabad  4. Instruments Research & Development Establishment (IRDE), Dehradun  5. SF Complex (SFC), Jagdalpur'"
      ]
     },
     "execution_count": 17,
     "metadata": {},
     "output_type": "execute_result"
    }
   ],
   "source": [
    "st = ans['answer']\n",
    "stt = st.replace(\"\\n\", \"  \")\n",
    "stt"
   ]
  },
  {
   "cell_type": "markdown",
   "metadata": {},
   "source": [
    "##### Question 5"
   ]
  },
  {
   "cell_type": "code",
   "execution_count": 24,
   "metadata": {},
   "outputs": [],
   "source": [
    "ans = retrival_chain.invoke({\"input\" : \"Give me brief of International Year of Millets\"})"
   ]
  },
  {
   "cell_type": "code",
   "execution_count": 25,
   "metadata": {},
   "outputs": [
    {
     "data": {
      "text/plain": [
       "{'input': 'Give me brief of International Year of Millets',\n",
       " 'context': [Document(metadata={'page': 12, 'source': 'NL_January2024.pdf'}, page_content=\"13\\n|   JANUARY 2024\\nDRDO NEWSLETTEREVENTS\\nDRDO PARTICIPATION IN BIHAR SCIENTIFIC \\nLITERACY FESTIVAL\\nINTERNATIONAL YEAR OF MILLETS-2023The Defence Research & \\nDevelopment Organisation \\n(DRDO) participated in the \\nBihar\\tScientific\\t Literacy\\t Cum\\t\\nHealth & Wellness Festival held \\nat Patna, Biharunder Patliputra Lok Sabha constituency, during 07-09 December 2023. The event was supported by DAE, ICMR, \\nISRO, CSIR, MOES, DST, and \\nDRDO. The three-day educational and information dissemination outreach and sensitization event was inaugurated by Shri SK Jha, \\nZonal Director Education, Patna \\nZone-A, in the august presence \\n \\nDr Krishna Pandey, Sc ‘G’ & Director, Rajendra Memorial Research Institute of Medical \\nSciences, Patna, and other \\ndignitaries representing the district and state administration and other \\nITM, Mussoorie\\nThe International Year of \\nMillets 2023 was celebrated at the Institute of Technology \\nManagement (ITM), Mussoorie, \\non 08 December 2023 with great enthusiasm. Shri Sunil Bhandari, TO ‘B’, in his opening address, enumerated\\t the\\tbenefits\\t of\\t\\nmillets. Shri Anuj Kumar, Sc 'B', \\nenlightened the audience with \\nthe nutritional, economic, and ecological\\t benefits\\t of\\tmillets.\\tHe\\t\\nemphasized ‘Healthy Millets, Healthy People’ and urged people \\nto incorporate millets into their segments of society, scientists and \\nother delegates, media persons, the general public, and students from \\ncolleges and schools, teachers, \\nand professors. The event gave students, especially in schools and colleges, the opportunity to interact with the DRDO scientists \\nand learn more about the DRDO \\nproducts and technologies.\\ndiet. Shri SA Katti, OS & Director, ITM, highlighted in his closing remarks\\t the\\teffectiveness\\t of\\t\\nmillets. He walked the audience through the nostalgic lanes of their childhood, when millets were associated with auspicious occasions. Thereupon, a millet-based quiz contest was organized \\nfor ITM personnel. The event \\nconcluded with a vote of thanks by Gp Capt RK Mansharamani, Gp Head (Tech Coord), followed by a millet-based lunch at the ITM Wet \\nCanteen.\\nNMRL, Ambernath\\nThe International Year of \\nMillets was celebrated at the Naval \\nMaterials Research Laboratory \\n(NMRL), Ambernath, during 01-\\n14 Decemebr 2023 with great zeal and enthusiasm. Mrs Swati Thoda, Heartfulness Institute, Panvel,\"),\n",
       "  Document(metadata={'page': 13, 'source': 'NL_January2024.pdf'}, page_content='14\\n|   JANUARY 2024\\nDRDO NEWSLETTEREVENTS\\nSWACHHATA PAKHWADAwas invited as a guest speaker on \\n05 Decemebr 2023. She delivered a lecture on ‘Importance of Millets’ \\nand\\tfocused\\t on\\tthe\\tbenefits\\t of\\t\\nmillets in the diet. Shri PT Rojatkar, \\nOS & Director, NMRL felicitated the speaker. Cooking and poster competitions on millets were also organised on 11 December \\n2023. NMRL employees and their \\nfamily members took part in the competition. Over 200 people visited the exhibition where the posters were displayed. The \\nwinners were awarded with the \\nprices\\tand\\tcertificates.\\nDESIDOC, Delhi\\nThe\\t Defence\\t Scientific\\t\\nInformation & Documentation Centre (DESIDOC), Delhi, \\norganised a swachhata Pakhwada \\nduring 01-15 December 2023. Besides the cleanliness drive during the two-week-long program, a couple of events like poster, slogan, and essay writing \\ncompetitions were also organized. \\nDr K Nageswara Rao, Director, DESIDOC, awarded the prizes and\\tcommendation\\t certificates\\t to\\t\\nthe winners of various events. The all\\tofficers\\tand\\tstaff\\tof\\tDESIDOC\\t\\nenthusiastically took part in the celebration.\\nDL, Jodhpur\\n‘Swachhata Pakhwada’ was \\nobserved at Defence Laboratory, Jodhpur (DLJ) during 01-15 \\nDecember 2023. Various day-by-\\nday activities such as Awareness Day, Records Management Day, Scrap/Waste Disposal Day, Go Green Drive Day and Community Outreach Day were \\nplanned and executed during the \\npakhawada. An essay competition on ‘Swachhata ka Mahatwa’ was conducted by the laboratory Govt \\nSchool of Jodhpur and a rally was \\norganized by depicting banners \\nand placards to create awareness in the society.  \\nEMU, Hyderabad\\nswachhata Pakhwada was \\nobserved at EMU, Hyderabad, during 01-15 December 2023. As \\npart of special campaign week of \\nSwachhata Pakhwada 2023 and also as part of the International Year of Millets (IYM), 2023, ‘Millets Milan’ programme was conducted at Estate Nursery, \\nHyderabad on 08 December 2023.\\nDirectors of Hyderabad \\nstation-based laboratories/\\nestablishments were invited to grace the occasion. In this \\nconnection, mini exposition \\nof millets, millets products, medicinal plants and microgreens was organised. Arboriculture team of EMU (R&D), Hyderabad \\ndemonstrated nutritional'),\n",
       "  Document(metadata={'page': 14, 'source': 'NL_January2024.pdf'}, page_content=\"15\\n|   JANUARY 2024\\nDRDO NEWSLETTEREVENTS\\nand\\thealth\\tbenefits\\t of\\teach\\tMillet\\t\\nthrough pictorial presentation. \\nVariety of competitions \\nwere conducted at Defence \\nLaboratory School, Kanchanbagh and Kendriya Vidyalaya, Kanchanbagh. Dr Anil Khurana, CCE (R&D) Estates South graced the ceremony and addressed that \\nthe children are the ambassadors \\nof the next generation and they should be encouraged for this noble cause.\\nIRDE, Dehradun\\nInstruments Research & \\nDevelopment Establishment (IRDE), Dehradun celebrated \\nSwachhata Pakhwada - Swachhata \\nhi Sewa (SHS) 2023 on 01 October 2023 and Special Campaign 3.0 during 02-31 October 2023. \\nThe aim of the event was to \\nensure the participation of the IRDE fraternity in Swachhata \\nactivities and to truly transform \\nSwachh Bharat into a citizen's movement. A plantation drive was conducted by the Swachhata Vigilance Committee (SVC) of IRDE\\tin\\tvarious\\tlocations\\t of\\toffice\\t\\npremises on 01 October 2023. \\nDr Ajay Kumar, OS & Director, \\nIRDE,\\tand\\tother\\tofficers\\t&\\tstaff\\t\\nactively participated in the plantation drive. SVC paid tribute \\nto the Father of the Nation on 02 \\nOctober 2023. Additionally, the officers\\t and\\tstaff\\tof\\tIRDE\\ttook\\t\\na Swachhta Pledge to further promote sustainable living and discourage the use of plastic bags.\\nTo spread awareness against \\nsingle-use plastics and also to sensitize\\t officers\\tand\\tstaff\\tabout\\t\\nwaste segregation and disposal, a lecture by Shri Anup Nautiyal, a\\tprolific\\tcolumnist\\t and\\tfounder\\t\\nof the ‘Social Development for Communities (SDC) Foundation’ on ‘The Perils of Solid and \\nPlastic Waste Management in \\nUttarakhand’ was also organized.\\nSFC, Jagdalpur\\nThe ‘Swachhata Pakhwada \\nwas observed at SF Complex \\n(SFC), Jagdalpur during  \\n01-15 December 2023. The event was inaugurated on by Dr MVL \\nRamesh, GM, SFC and Swachhata Shapath was taken by all the \\nemployees. EMU, Jagdalpur also \\nparticipated during the events. A \\ntalk on hygiene and sanitation was \\ndelivered by Dr Kothar Raja Veda Vyas. Tree plantation and painting \\ncompetition were conducted at \\nGovt. school Jaitgiri (Bastar) and \\nan awareness rally was organised at tribal village Jaitgiri to promote cleanliness. \\nThe medical camp and millet \\ndistribution drive also organised at \\ntribal village Jaitgiri.  All the winners \\nare awarded with prize by Dr MVL Ramesh, General Manager, SFC.  \\nDr Ramesh addressed the gathering and emphasised the \\nimportance of cleanliness in \\nour life to avoid the disease and improve the living wellbeing.\")],\n",
       " 'answer': \"Based on the provided context, here's a brief summary of the International Year of Millets:\\n\\n* The International Year of Millets (IYM) was celebrated in 2023.\\n* The IYM aimed to raise awareness about the benefits of millets, which are small-grained cereals that are nutritious and environmentally friendly.\\n* The celebration involved various events and activities across different organizations, including the Defence Research & Development Organisation (DRDO), Naval Materials Research Laboratory (NMRL), Institute of Technology Management (ITM), and others.\\n* Events included lectures, quizzes, competitions, and exhibitions showcasing the nutritional, economic, and ecological benefits of millets.\\n* The IYM emphasized the importance of incorporating millets into daily diets for a healthier and more sustainable lifestyle.\"}"
      ]
     },
     "execution_count": 25,
     "metadata": {},
     "output_type": "execute_result"
    }
   ],
   "source": [
    "ans"
   ]
  },
  {
   "cell_type": "code",
   "execution_count": 26,
   "metadata": {},
   "outputs": [
    {
     "data": {
      "text/plain": [
       "\"Based on the provided context, here's a brief summary of the International Year of Millets:    * The International Year of Millets (IYM) was celebrated in 2023.  * The IYM aimed to raise awareness about the benefits of millets, which are small-grained cereals that are nutritious and environmentally friendly.  * The celebration involved various events and activities across different organizations, including the Defence Research & Development Organisation (DRDO), Naval Materials Research Laboratory (NMRL), Institute of Technology Management (ITM), and others.  * Events included lectures, quizzes, competitions, and exhibitions showcasing the nutritional, economic, and ecological benefits of millets.  * The IYM emphasized the importance of incorporating millets into daily diets for a healthier and more sustainable lifestyle.\""
      ]
     },
     "execution_count": 26,
     "metadata": {},
     "output_type": "execute_result"
    }
   ],
   "source": [
    "st = ans['answer']\n",
    "stt = st.replace(\"\\n\", \"  \")\n",
    "stt"
   ]
  },
  {
   "cell_type": "markdown",
   "metadata": {},
   "source": [
    "##### Question 6"
   ]
  },
  {
   "cell_type": "code",
   "execution_count": 32,
   "metadata": {},
   "outputs": [],
   "source": [
    "ans = retrival_chain.invoke({\"input\" : \"who is from Aligarh Muslim University shri Parimal Kumar\"})"
   ]
  },
  {
   "cell_type": "code",
   "execution_count": 33,
   "metadata": {},
   "outputs": [
    {
     "data": {
      "text/plain": [
       "{'input': 'who is from Aligarh Muslim University shri Parimal  Kumar',\n",
       " 'context': [Document(metadata={'page': 13, 'source': 'NL_January2024.pdf'}, page_content='14\\n|   JANUARY 2024\\nDRDO NEWSLETTEREVENTS\\nSWACHHATA PAKHWADAwas invited as a guest speaker on \\n05 Decemebr 2023. She delivered a lecture on ‘Importance of Millets’ \\nand\\tfocused\\t on\\tthe\\tbenefits\\t of\\t\\nmillets in the diet. Shri PT Rojatkar, \\nOS & Director, NMRL felicitated the speaker. Cooking and poster competitions on millets were also organised on 11 December \\n2023. NMRL employees and their \\nfamily members took part in the competition. Over 200 people visited the exhibition where the posters were displayed. The \\nwinners were awarded with the \\nprices\\tand\\tcertificates.\\nDESIDOC, Delhi\\nThe\\t Defence\\t Scientific\\t\\nInformation & Documentation Centre (DESIDOC), Delhi, \\norganised a swachhata Pakhwada \\nduring 01-15 December 2023. Besides the cleanliness drive during the two-week-long program, a couple of events like poster, slogan, and essay writing \\ncompetitions were also organized. \\nDr K Nageswara Rao, Director, DESIDOC, awarded the prizes and\\tcommendation\\t certificates\\t to\\t\\nthe winners of various events. The all\\tofficers\\tand\\tstaff\\tof\\tDESIDOC\\t\\nenthusiastically took part in the celebration.\\nDL, Jodhpur\\n‘Swachhata Pakhwada’ was \\nobserved at Defence Laboratory, Jodhpur (DLJ) during 01-15 \\nDecember 2023. Various day-by-\\nday activities such as Awareness Day, Records Management Day, Scrap/Waste Disposal Day, Go Green Drive Day and Community Outreach Day were \\nplanned and executed during the \\npakhawada. An essay competition on ‘Swachhata ka Mahatwa’ was conducted by the laboratory Govt \\nSchool of Jodhpur and a rally was \\norganized by depicting banners \\nand placards to create awareness in the society.  \\nEMU, Hyderabad\\nswachhata Pakhwada was \\nobserved at EMU, Hyderabad, during 01-15 December 2023. As \\npart of special campaign week of \\nSwachhata Pakhwada 2023 and also as part of the International Year of Millets (IYM), 2023, ‘Millets Milan’ programme was conducted at Estate Nursery, \\nHyderabad on 08 December 2023.\\nDirectors of Hyderabad \\nstation-based laboratories/\\nestablishments were invited to grace the occasion. In this \\nconnection, mini exposition \\nof millets, millets products, medicinal plants and microgreens was organised. Arboriculture team of EMU (R&D), Hyderabad \\ndemonstrated nutritional'),\n",
       "  Document(metadata={'page': 7, 'source': 'NL_January2024.pdf'}, page_content=\"8\\n|   JANUARY 2024\\nDRDO NEWSLETTEREVENTS\\nVIGILANCE AWARENESS WEEK\\nVigilance Awareness Week is observed every year during the week in which the birthday of \\nSardar Vallabhbhai Patel (31 October) falls. The theme of this year’s Vigilance Awareness Week was ‘Say No to Corruption, Commit to the Nation’.\\nDL, Jodhpur\\nVigilance Awareness Week was \\ncelebrated during 30 October to 3 November 2023 at the Defence \\nLaboratory, Jodhpur (DLJ). All \\nthe\\tofficers\\tand\\tstaff\\ttook\\ta\\tpledge\\t\\nregarding vigilance. A lecture on 'Say No to Corruption: Commit \\nto the Nation' was delivered by \\nShri Harendra Kumar Mahawar, \\nIPS, IG, Anti-Corruption Bureau, \\nJodhpur, on the occasion.\\nIRDE, Dehradun\\nInstruments Research & \\nDevelopment Establishment (IRDE), Dehradun, observed \\nVigilance Awareness Week during \\n30 October 2023 to 05 November 2023 to increase awareness about the perils of corruption. The event commenced with the integrity pledge\\tby\\tall\\tthe\\tofficers\\tand\\tstaff\\t\\nof IRDE on 30 October 2023. Shri Girraj Prasad, Sc ‘F’ talked about procurement on 31 October 2023. On the occasion, a lecture was delivered by Dr V Murugesan (IPS), Director Vigilance, Uttarakhand, on 01 November 2023. Various activities, like essay and slogan writing, were also \\norganised during the week.\\nSFC, Jagdalpur\\nVigilance Awareness Week was \\ncelebrated at SF Complex (SFC), \\nJagdalpur during 30 October \\n2023 to 05 November 2023. \\nVigilance pledge was taken by all\\tofficers\\tand\\tstaff\\ton\\tinaugural\\t\\nfunction. Quiz competitions and slogan writing competitions \\nwere organised as a part of the \\ncelebrations. Technical lectures on\\t‘Classification\\t of\\tDocument’\\t\\nwere\\tgiven\\tby\\tvigilance\\t officer\\tShri\\t\\nAmarjeet Kumar, SC ‘E’. During \\nclosing ceremony, a presentation \\non ‘Recent Intelligence Threats’ were delivered by IB in-charge Jagdalpur and also talk on ‘Security & Vigilance Concern’ were given by OC, unit-667.\\nDr MVL Ramesh, Sc ’G’ & \\nGeneral Manager, SFC addressed the gathering and emphasized on importance and critical role of SFC. He told to all employees \\nto be vigilant and perform duties \\nwithout disclosing identity and nature of work of laboratory. He also cautioned regarding increasing trend of cyber threat as it is becoming the easy tool for \\ntrapping the defence employees. \\nHe\\talso\\tappreciated\\t the\\tefforts\\t\\nby SFC vigilance department in creating vigilance and cyber awareness.\"),\n",
       "  Document(metadata={'page': 14, 'source': 'NL_January2024.pdf'}, page_content=\"15\\n|   JANUARY 2024\\nDRDO NEWSLETTEREVENTS\\nand\\thealth\\tbenefits\\t of\\teach\\tMillet\\t\\nthrough pictorial presentation. \\nVariety of competitions \\nwere conducted at Defence \\nLaboratory School, Kanchanbagh and Kendriya Vidyalaya, Kanchanbagh. Dr Anil Khurana, CCE (R&D) Estates South graced the ceremony and addressed that \\nthe children are the ambassadors \\nof the next generation and they should be encouraged for this noble cause.\\nIRDE, Dehradun\\nInstruments Research & \\nDevelopment Establishment (IRDE), Dehradun celebrated \\nSwachhata Pakhwada - Swachhata \\nhi Sewa (SHS) 2023 on 01 October 2023 and Special Campaign 3.0 during 02-31 October 2023. \\nThe aim of the event was to \\nensure the participation of the IRDE fraternity in Swachhata \\nactivities and to truly transform \\nSwachh Bharat into a citizen's movement. A plantation drive was conducted by the Swachhata Vigilance Committee (SVC) of IRDE\\tin\\tvarious\\tlocations\\t of\\toffice\\t\\npremises on 01 October 2023. \\nDr Ajay Kumar, OS & Director, \\nIRDE,\\tand\\tother\\tofficers\\t&\\tstaff\\t\\nactively participated in the plantation drive. SVC paid tribute \\nto the Father of the Nation on 02 \\nOctober 2023. Additionally, the officers\\t and\\tstaff\\tof\\tIRDE\\ttook\\t\\na Swachhta Pledge to further promote sustainable living and discourage the use of plastic bags.\\nTo spread awareness against \\nsingle-use plastics and also to sensitize\\t officers\\tand\\tstaff\\tabout\\t\\nwaste segregation and disposal, a lecture by Shri Anup Nautiyal, a\\tprolific\\tcolumnist\\t and\\tfounder\\t\\nof the ‘Social Development for Communities (SDC) Foundation’ on ‘The Perils of Solid and \\nPlastic Waste Management in \\nUttarakhand’ was also organized.\\nSFC, Jagdalpur\\nThe ‘Swachhata Pakhwada \\nwas observed at SF Complex \\n(SFC), Jagdalpur during  \\n01-15 December 2023. The event was inaugurated on by Dr MVL \\nRamesh, GM, SFC and Swachhata Shapath was taken by all the \\nemployees. EMU, Jagdalpur also \\nparticipated during the events. A \\ntalk on hygiene and sanitation was \\ndelivered by Dr Kothar Raja Veda Vyas. Tree plantation and painting \\ncompetition were conducted at \\nGovt. school Jaitgiri (Bastar) and \\nan awareness rally was organised at tribal village Jaitgiri to promote cleanliness. \\nThe medical camp and millet \\ndistribution drive also organised at \\ntribal village Jaitgiri.  All the winners \\nare awarded with prize by Dr MVL Ramesh, General Manager, SFC.  \\nDr Ramesh addressed the gathering and emphasised the \\nimportance of cleanliness in \\nour life to avoid the disease and improve the living wellbeing.\")],\n",
       " 'answer': \"There is no information provided about Shri Parimal Kumar being from Aligarh Muslim University. In fact, there is no mention of Shri Parimal Kumar at all in the given context. Therefore, it's not possible to answer this question based on the provided context. If you meant to ask a different question or provide more context, I'd be happy to help!\"}"
      ]
     },
     "execution_count": 33,
     "metadata": {},
     "output_type": "execute_result"
    }
   ],
   "source": [
    "ans"
   ]
  },
  {
   "cell_type": "code",
   "execution_count": 34,
   "metadata": {},
   "outputs": [
    {
     "data": {
      "text/plain": [
       "\"There is no information provided about Shri Parimal Kumar being from Aligarh Muslim University. In fact, there is no mention of Shri Parimal Kumar at all in the given context. Therefore, it's not possible to answer this question based on the provided context. If you meant to ask a different question or provide more context, I'd be happy to help!\""
      ]
     },
     "execution_count": 34,
     "metadata": {},
     "output_type": "execute_result"
    }
   ],
   "source": [
    "st = ans['answer']\n",
    "stt = st.replace(\"\\n\", \"  \")\n",
    "stt"
   ]
  },
  {
   "cell_type": "markdown",
   "metadata": {},
   "source": [
    "##### Question 7"
   ]
  },
  {
   "cell_type": "code",
   "execution_count": 35,
   "metadata": {},
   "outputs": [],
   "source": [
    "ans = retrival_chain.invoke({\"input\" : \"what happen in DRDO NORTH ZONE KABADDI TOURNAMENT ?\"})"
   ]
  },
  {
   "cell_type": "code",
   "execution_count": 36,
   "metadata": {},
   "outputs": [
    {
     "data": {
      "text/plain": [
       "{'input': 'what happen in DRDO NORTH ZONE KABADDI TOURNAMENT ?',\n",
       " 'context': [Document(metadata={'page': 21, 'source': 'NL_January2024.pdf'}, page_content='22\\n|   JANUARY 2024\\nDRDO NEWSLETTERSPORTS NEWS\\nDRDO NORTH ZONE CARROM TOURNAMENT\\nThe Defence Geoinformatics \\nResearch Establishment (DGRE), \\nChandigarh, hosted the DRDO \\nNorth Zone Carrom Tournament \\nduring 28 November 2023 to 01 December 2023. Dr PK Satyawali, OS & Director, DGRE, inaugurated the event and urged all the players with zeal and enthusiasm.  \\nShri Niranjan Kumar, DESIDOC, won the Men’s Singles; Shri Vikas Kharola and Surendra Singh, IRDE, won the Men’s Doubles; Ms Supriya Aherwar, JCB, won \\nthe Women’s Singles; Ms Monica \\nTondon and Ms Usha Kumari, IRDE, won the Women’s Doubles; Shri NK Balodi, DEAL, won the Veterans Single; and Shri Bharat Singh and Shri Bhagat Ram, IRDE, \\nwon the Veterans Doubles. \\nDRDO NORTH ZONE KABADDI TOURNAMENT \\nThe Defence Materials and \\nStores Research & Development \\nEstablishment (DMSRDE), \\nKanpur, organised DRDO North \\nZone Kabaddi Tournament 2023 during 06-09 November 2023. Dr Mayank Dwivedi, OS & Director, DMSRDE, was the Chief Guest for the inaugural event of \\nthe tournament. Overall, seven \\nteams from sister laboratories, namely TBRL, INMAS, CFEES, DEAL, IRDE, SAG, and host DMSRDE, participated in the \\ntournament. TBRL, Chandigarh, \\nwon the tournament by defeating INMAS,\\t Delhi,\\t in\\tthe\\tfinal.\\t\\nDirector, DMSRDE congratulated and greeted the winners. Three players from TBRL, two players \\nfrom INMAS, and one player from \\nDEAL, IRDE, SAG, CFEES, and \\nDMSRDE were selected and will represent the North Zone during the DRDO Nationals tournament. Dr Ashish Dubey, Sc ‘F’ & Sports Officer\\torganised\\tthe\\ttournament.'),\n",
       "  Document(metadata={'page': 22, 'source': 'NL_January2024.pdf'}, page_content=\"23\\n|   JANUARY 2024\\nDRDO NEWSLETTERNorth Zone Table \\nTennis Tournament\\nMs Sanjeeta \\nDhegaya, Sc \\n‘D’ represented \\nthe Defence \\nLaboratory,  Jodhpur (DLJ) Ladies Team in the North Zone Table Tennis \\nTournament at \\nthe Instruments Research & Development  Establishment  \\n(IRDE),  \\nDehradun, during 17-20 October 2023, and secured \\nthe\\twinner\\tposition\\t (first\\tposition)\\t\\nin women doubles and a gold \\nmedal.\\nINTRA ZONAL CHESS TOURNAMENT\\nNaval Materials Research \\nLaboratory (NMRL), Ambernath, \\norganised DRDO intra-zonal \\nchess tournament during 13-15 \\nDecember 2023. Shri PT Rojatkar, OS & Director, NMRL, inaugurated the tournament. Participants from Western Zone DRDO laboratories, namely HEMRL, \\nARDE, and NMRL, participated in \\nthe tournament. Individual men, women, and team championship competitions were conducted by referees from the Maharashtra \\nChess Association. The ‘Winner \\nChampion Trophy' was conferred upon NMRL Ambernath and the \\n‘Runner Up Trophy’ to HEMRL, Pune, by the Director, NMRL, during\\tthe\\tclosing.\\tThe\\tcertificates\\tand medals for the winners and runner-ups in the individual category were also distributed.\\nEYE CHECK-UP CAMP AT NSTL\\nThe Naval Science & \\nTechnological Laboratory (NSTL) Civil Employees Union, \\nin association with Chroma \\nEye Hospital, Visakhapatnam, organized a free eye check-up camp during 14-15 November 2023.\\tDr\\tHN\\tDas,\\tOfficiating\\t\\nDirector, NSTL, inaugurated the camp and gave a welcome address. Dr GV Krishna Kumar, GDMS, \\nalso shared his view on awareness \\nof the eye and other related significance.\\t Dr\\tPraggya\\t Rit\\tRoy\\t\\nand his team of MI Room, NSTL, supervised the camp. SPORTS NEWS\"),\n",
       "  Document(metadata={'page': 13, 'source': 'NL_January2024.pdf'}, page_content='14\\n|   JANUARY 2024\\nDRDO NEWSLETTEREVENTS\\nSWACHHATA PAKHWADAwas invited as a guest speaker on \\n05 Decemebr 2023. She delivered a lecture on ‘Importance of Millets’ \\nand\\tfocused\\t on\\tthe\\tbenefits\\t of\\t\\nmillets in the diet. Shri PT Rojatkar, \\nOS & Director, NMRL felicitated the speaker. Cooking and poster competitions on millets were also organised on 11 December \\n2023. NMRL employees and their \\nfamily members took part in the competition. Over 200 people visited the exhibition where the posters were displayed. The \\nwinners were awarded with the \\nprices\\tand\\tcertificates.\\nDESIDOC, Delhi\\nThe\\t Defence\\t Scientific\\t\\nInformation & Documentation Centre (DESIDOC), Delhi, \\norganised a swachhata Pakhwada \\nduring 01-15 December 2023. Besides the cleanliness drive during the two-week-long program, a couple of events like poster, slogan, and essay writing \\ncompetitions were also organized. \\nDr K Nageswara Rao, Director, DESIDOC, awarded the prizes and\\tcommendation\\t certificates\\t to\\t\\nthe winners of various events. The all\\tofficers\\tand\\tstaff\\tof\\tDESIDOC\\t\\nenthusiastically took part in the celebration.\\nDL, Jodhpur\\n‘Swachhata Pakhwada’ was \\nobserved at Defence Laboratory, Jodhpur (DLJ) during 01-15 \\nDecember 2023. Various day-by-\\nday activities such as Awareness Day, Records Management Day, Scrap/Waste Disposal Day, Go Green Drive Day and Community Outreach Day were \\nplanned and executed during the \\npakhawada. An essay competition on ‘Swachhata ka Mahatwa’ was conducted by the laboratory Govt \\nSchool of Jodhpur and a rally was \\norganized by depicting banners \\nand placards to create awareness in the society.  \\nEMU, Hyderabad\\nswachhata Pakhwada was \\nobserved at EMU, Hyderabad, during 01-15 December 2023. As \\npart of special campaign week of \\nSwachhata Pakhwada 2023 and also as part of the International Year of Millets (IYM), 2023, ‘Millets Milan’ programme was conducted at Estate Nursery, \\nHyderabad on 08 December 2023.\\nDirectors of Hyderabad \\nstation-based laboratories/\\nestablishments were invited to grace the occasion. In this \\nconnection, mini exposition \\nof millets, millets products, medicinal plants and microgreens was organised. Arboriculture team of EMU (R&D), Hyderabad \\ndemonstrated nutritional')],\n",
       " 'answer': \"Based on the provided context, here's the answer:\\n\\nThe DRDO North Zone Kabaddi Tournament 2023 was organized by the Defence Materials and Stores Research & Development Establishment (DMSRDE), Kanpur, during 06-09 November 2023. The tournament saw participation from seven teams from sister laboratories, namely TBRL, INMAS, CFEES, DEAL, IRDE, SAG, and host DMSRDE.\\n\\nThe winner of the tournament was TBRL, Chandigarh, who defeated INMAS, Delhi, in the final. Three players from TBRL, two players from INMAS, and one player each from DEAL, IRDE, SAG, CFEES, and DMSRDE were selected to represent the North Zone during the DRDO Nationals tournament.\\n\\nThe Chief Guest for the inaugural event was Dr Mayank Dwivedi, OS & Director, DMSRDE. The tournament was organized by Dr Ashish Dubey, Sc 'F' & Sports Officer.\"}"
      ]
     },
     "execution_count": 36,
     "metadata": {},
     "output_type": "execute_result"
    }
   ],
   "source": [
    "ans"
   ]
  },
  {
   "cell_type": "code",
   "execution_count": 37,
   "metadata": {},
   "outputs": [
    {
     "data": {
      "text/plain": [
       "\"Based on the provided context, here's the answer:    The DRDO North Zone Kabaddi Tournament 2023 was organized by the Defence Materials and Stores Research & Development Establishment (DMSRDE), Kanpur, during 06-09 November 2023. The tournament saw participation from seven teams from sister laboratories, namely TBRL, INMAS, CFEES, DEAL, IRDE, SAG, and host DMSRDE.    The winner of the tournament was TBRL, Chandigarh, who defeated INMAS, Delhi, in the final. Three players from TBRL, two players from INMAS, and one player each from DEAL, IRDE, SAG, CFEES, and DMSRDE were selected to represent the North Zone during the DRDO Nationals tournament.    The Chief Guest for the inaugural event was Dr Mayank Dwivedi, OS & Director, DMSRDE. The tournament was organized by Dr Ashish Dubey, Sc 'F' & Sports Officer.\""
      ]
     },
     "execution_count": 37,
     "metadata": {},
     "output_type": "execute_result"
    },
    {
     "ename": "",
     "evalue": "",
     "output_type": "error",
     "traceback": [
      "\u001b[1;31mThe Kernel crashed while executing code in the current cell or a previous cell. \n",
      "\u001b[1;31mPlease review the code in the cell(s) to identify a possible cause of the failure. \n",
      "\u001b[1;31mClick <a href='https://aka.ms/vscodeJupyterKernelCrash'>here</a> for more info. \n",
      "\u001b[1;31mView Jupyter <a href='command:jupyter.viewOutput'>log</a> for further details."
     ]
    }
   ],
   "source": [
    "st = ans['answer']\n",
    "stt = st.replace(\"\\n\", \"  \")\n",
    "stt"
   ]
  },
  {
   "cell_type": "code",
   "execution_count": null,
   "metadata": {},
   "outputs": [],
   "source": []
  }
 ],
 "metadata": {
  "kernelspec": {
   "display_name": "base",
   "language": "python",
   "name": "python3"
  },
  "language_info": {
   "codemirror_mode": {
    "name": "ipython",
    "version": 3
   },
   "file_extension": ".py",
   "mimetype": "text/x-python",
   "name": "python",
   "nbconvert_exporter": "python",
   "pygments_lexer": "ipython3",
   "version": "3.12.3"
  }
 },
 "nbformat": 4,
 "nbformat_minor": 2
}
